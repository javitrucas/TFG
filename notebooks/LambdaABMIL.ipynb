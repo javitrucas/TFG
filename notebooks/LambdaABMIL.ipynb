{
 "cells": [
  {
   "cell_type": "code",
   "execution_count": 1,
   "metadata": {},
   "outputs": [
    {
     "ename": "ModuleNotFoundError",
     "evalue": "No module named 'experiments'",
     "output_type": "error",
     "traceback": [
      "\u001b[31m---------------------------------------------------------------------------\u001b[39m",
      "\u001b[31mModuleNotFoundError\u001b[39m                       Traceback (most recent call last)",
      "\u001b[36mCell\u001b[39m\u001b[36m \u001b[39m\u001b[32mIn[1]\u001b[39m\u001b[32m, line 10\u001b[39m\n\u001b[32m      8\u001b[39m \u001b[38;5;28;01mimport\u001b[39;00m\u001b[38;5;250m \u001b[39m\u001b[34;01mtorch\u001b[39;00m\n\u001b[32m      9\u001b[39m \u001b[38;5;28;01mimport\u001b[39;00m\u001b[38;5;250m \u001b[39m\u001b[34;01mnumpy\u001b[39;00m\u001b[38;5;250m \u001b[39m\u001b[38;5;28;01mas\u001b[39;00m\u001b[38;5;250m \u001b[39m\u001b[34;01mnp\u001b[39;00m\n\u001b[32m---> \u001b[39m\u001b[32m10\u001b[39m \u001b[38;5;28;01mfrom\u001b[39;00m\u001b[38;5;250m \u001b[39m\u001b[34;01mexperiments\u001b[39;00m\u001b[34;01m.\u001b[39;00m\u001b[34;01mmodel_builder\u001b[39;00m\u001b[38;5;250m \u001b[39m\u001b[38;5;28;01mimport\u001b[39;00m build_MIL_model\n\u001b[32m     11\u001b[39m \u001b[38;5;28;01mfrom\u001b[39;00m\u001b[38;5;250m \u001b[39m\u001b[34;01mexperiments\u001b[39;00m\u001b[34;01m.\u001b[39;00m\u001b[34;01mdataset_loader\u001b[39;00m\u001b[38;5;250m \u001b[39m\u001b[38;5;28;01mimport\u001b[39;00m load_dataset\n\u001b[32m     12\u001b[39m \u001b[38;5;28;01mfrom\u001b[39;00m\u001b[38;5;250m \u001b[39m\u001b[34;01mexperiments\u001b[39;00m\u001b[34;01m.\u001b[39;00m\u001b[34;01mood_scorer\u001b[39;00m\u001b[38;5;250m \u001b[39m\u001b[38;5;28;01mimport\u001b[39;00m get_model_ood_scorers\n",
      "\u001b[31mModuleNotFoundError\u001b[39m: No module named 'experiments'"
     ]
    }
   ],
   "source": [
    "%load_ext autoreload\n",
    "%autoreload 2\n",
    "import sys\n",
    "import os\n",
    "sys.path.append('../')\n",
    "import wandb\n",
    "import argparse\n",
    "import torch\n",
    "import numpy as np\n",
    "from experiments.model_builder import build_MIL_model\n",
    "from experiments.dataset_loader import load_dataset\n",
    "from experiments.ood_scorer import get_model_ood_scorers\n",
    "from experiments.utils import MIL_collate_fn\n",
    "from torch.utils.data import DataLoader\n",
    "from toy_plots import plot_toy1D_bag, plot_attention_separated_histograms\n",
    "from experiments.predict import predict, predict_raw\n",
    "from experiments.evaluate import evaluate, predict_ood_scores, compute_separated_metrics\n",
    "from selected_configurations.dirichlet import best_configurations\n",
    "import matplotlib.pyplot as plt\n",
    "import seaborn as sns\n",
    "import numpy as np\n",
    "import copy\n",
    "from tqdm import tqdm\n",
    "import matplotlib.pyplot as plt \n",
    "\n",
    "\n",
    "from collections import defaultdict\n",
    "\n",
    "os.environ[\"PATH\"] = os.environ[\"PATH\"] + \":/home/fjaviersaezm/texlive/bin/x86_64-linux\"\n",
    "# Set LaTeX usage for matplotlib\n",
    "plt.rcParams.update({\n",
    "    \"text.usetex\": True,  # Enable LaTeX for rendering text\n",
    "    \"font.family\": \"serif\",\n",
    "    \"font.serif\": 'Nimbus Roman'\n",
    "})\n",
    "\n",
    "\n",
    "ind_dataset_name = 'rsna-features_resnet50'\n",
    "#ind_dataset_name = 'camelyon16-patches_512_preset-features_UNI'\n",
    "#ind_dataset_name = 'panda-patches_512_preset-features_UNI'\n",
    "ind_dataset_name = 'panda-patches_512_preset-features_resnet50_bt'\n",
    "ind_dataset_name = 'camelyon16-patches_512_preset-features_resnet50_bt'\n",
    "ind_dataset_name = 'panda-patches_512_preset-features_resnet50'\n",
    "ind_dataset_name = 'camelyon16-patches_512_preset-features_resnet50'\n",
    "ind_dataset_name = 'SCtoy-2'\n",
    "\n",
    "\n",
    "run_path_dict = best_configurations[ind_dataset_name]\n",
    "SAVE_PATH = f'/work/work_fjaviersaezm/SmoothAttention/results/LambdaABMIL/{ind_dataset_name}/'\n",
    "os.makedirs(SAVE_PATH, exist_ok=True)\n",
    "wandb_api = wandb.Api()\n",
    "torch.manual_seed(1)\n",
    "\n"
   ]
  }
 ],
 "metadata": {
  "kernelspec": {
   "display_name": "tfg",
   "language": "python",
   "name": "python3"
  },
  "language_info": {
   "codemirror_mode": {
    "name": "ipython",
    "version": 3
   },
   "file_extension": ".py",
   "mimetype": "text/x-python",
   "name": "python",
   "nbconvert_exporter": "python",
   "pygments_lexer": "ipython3",
   "version": "3.11.11"
  }
 },
 "nbformat": 4,
 "nbformat_minor": 2
}
