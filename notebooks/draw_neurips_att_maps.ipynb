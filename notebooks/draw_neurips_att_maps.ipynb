{
 "cells": [
  {
   "cell_type": "code",
   "execution_count": 1,
   "metadata": {},
   "outputs": [],
   "source": [
    "import sys\n",
    "import os\n",
    "\n",
    "# Agregar el directorio raíz del proyecto a sys.path\n",
    "project_root = \"/home/javitrucas/TFG\"\n",
    "if project_root not in sys.path:\n",
    "    sys.path.append(project_root)"
   ]
  },
  {
   "cell_type": "code",
   "execution_count": 2,
   "metadata": {},
   "outputs": [],
   "source": [
    "import matplotlib.pyplot as plt\n",
    "import os\n",
    "SAVE = True\n",
    "SAVE_PATH = '/output/neurips_att_maps'\n",
    "FIGSIZE = (10,10)\n",
    "SAVE_EXTENSION = 'png'\n",
    "\n",
    "os.environ['PATH'] = os.environ['PATH'] + ':/home/fran/latex/bin/x86_64-linux/'\n",
    "plt.rcParams.update({\"text.usetex\": True, 'font.size': 20})"
   ]
  },
  {
   "cell_type": "code",
   "execution_count": 3,
   "metadata": {},
   "outputs": [
    {
     "name": "stderr",
     "output_type": "stream",
     "text": [
      "/home/javitrucas/miniconda3/envs/tfg/lib/python3.11/site-packages/torchvision/io/image.py:13: UserWarning: Failed to load image Python extension: '/home/javitrucas/miniconda3/envs/tfg/lib/python3.11/site-packages/torchvision/image.so: undefined symbol: _ZN3c1017RegisterOperatorsD1Ev'If you don't plan on using image functionality from `torchvision.io`, you can ignore this warning. Otherwise, there might be something wrong with your environment. Did you have `libjpeg` or `libpng` installed before building `torchvision` from source?\n",
      "  warn(\n"
     ]
    },
    {
     "name": "stdout",
     "output_type": "stream",
     "text": [
      "[WSIDataset] Scanning files...\n"
     ]
    },
    {
     "ename": "NotImplementedError",
     "evalue": "",
     "output_type": "error",
     "traceback": [
      "\u001b[31m---------------------------------------------------------------------------\u001b[39m",
      "\u001b[31mNotImplementedError\u001b[39m                       Traceback (most recent call last)",
      "\u001b[36mCell\u001b[39m\u001b[36m \u001b[39m\u001b[32mIn[3]\u001b[39m\u001b[32m, line 12\u001b[39m\n\u001b[32m      9\u001b[39m \u001b[38;5;66;03m# csv_path = f'/data/data_fran/Panda/patches_{SIZE}/train_patches.csv'\u001b[39;00m\n\u001b[32m     10\u001b[39m csv_path = \u001b[33mf\u001b[39m\u001b[33m'\u001b[39m\u001b[33m/data/data_fran/Panda/patches_\u001b[39m\u001b[38;5;132;01m{\u001b[39;00mSIZE\u001b[38;5;132;01m}\u001b[39;00m\u001b[33m/test_patches.csv\u001b[39m\u001b[33m'\u001b[39m\n\u001b[32m---> \u001b[39m\u001b[32m12\u001b[39m dataset = \u001b[43mWSIDataset\u001b[49m\u001b[43m(\u001b[49m\u001b[43mprocessed_data_path\u001b[49m\u001b[43m=\u001b[49m\u001b[43mprocessed_data_path\u001b[49m\u001b[43m,\u001b[49m\u001b[43m \u001b[49m\u001b[43mcsv_path\u001b[49m\u001b[43m=\u001b[49m\u001b[43mcsv_path\u001b[49m\u001b[43m,\u001b[49m\u001b[43m \u001b[49m\u001b[43muse_patch_distances\u001b[49m\u001b[43m=\u001b[49m\u001b[38;5;28;43;01mFalse\u001b[39;49;00m\u001b[43m)\u001b[49m\n",
      "\u001b[36mFile \u001b[39m\u001b[32m~/TFG/data/datasets/WSIDataset.py:36\u001b[39m, in \u001b[36mWSIDataset.__init__\u001b[39m\u001b[34m(self, main_data_path, csv_path, features_dir_name, use_patch_distances, load_at_init, n_samples, bag_size_limit, read_csv_fn, **kwargs)\u001b[39m\n\u001b[32m     33\u001b[39m inst_labels_path = main_data_path + \u001b[33m'\u001b[39m\u001b[33mpatch_labels/\u001b[39m\u001b[33m'\u001b[39m\n\u001b[32m     34\u001b[39m coords_path = main_data_path + \u001b[33m'\u001b[39m\u001b[33mcoords/\u001b[39m\u001b[33m'\u001b[39m\n\u001b[32m---> \u001b[39m\u001b[32m36\u001b[39m \u001b[38;5;28;43msuper\u001b[39;49m\u001b[43m(\u001b[49m\u001b[43mWSIDataset\u001b[49m\u001b[43m,\u001b[49m\u001b[43m \u001b[49m\u001b[38;5;28;43mself\u001b[39;49m\u001b[43m)\u001b[49m\u001b[43m.\u001b[49m\u001b[34;43m__init__\u001b[39;49m\u001b[43m(\u001b[49m\u001b[43m \u001b[49m\n\u001b[32m     37\u001b[39m \u001b[43m    \u001b[49m\u001b[43mcsv_path\u001b[49m\u001b[43m=\u001b[49m\u001b[43mcsv_path\u001b[49m\u001b[43m,\u001b[49m\u001b[43m \u001b[49m\n\u001b[32m     38\u001b[39m \u001b[43m    \u001b[49m\u001b[43minst_labels_path\u001b[49m\u001b[43m=\u001b[49m\u001b[43minst_labels_path\u001b[49m\u001b[43m,\u001b[49m\u001b[43m \u001b[49m\n\u001b[32m     39\u001b[39m \u001b[43m    \u001b[49m\u001b[43mcoords_path\u001b[49m\u001b[43m=\u001b[49m\u001b[43mcoords_path\u001b[49m\u001b[43m,\u001b[49m\u001b[43m \u001b[49m\n\u001b[32m     40\u001b[39m \u001b[43m    \u001b[49m\u001b[43muse_patch_distances\u001b[49m\u001b[43m=\u001b[49m\u001b[43muse_patch_distances\u001b[49m\u001b[43m,\u001b[49m\n\u001b[32m     41\u001b[39m \u001b[43m    \u001b[49m\u001b[43mload_at_init\u001b[49m\u001b[43m=\u001b[49m\u001b[43mload_at_init\u001b[49m\u001b[43m,\u001b[49m\n\u001b[32m     42\u001b[39m \u001b[43m    \u001b[49m\u001b[43mn_samples\u001b[49m\u001b[43m=\u001b[49m\u001b[43mn_samples\u001b[49m\u001b[43m,\u001b[49m\u001b[43m \u001b[49m\n\u001b[32m     43\u001b[39m \u001b[43m    \u001b[49m\u001b[43m*\u001b[49m\u001b[43m*\u001b[49m\u001b[43mkwargs\u001b[49m\n\u001b[32m     44\u001b[39m \u001b[43m\u001b[49m\u001b[43m)\u001b[49m\n\u001b[32m     46\u001b[39m \u001b[38;5;28;01mif\u001b[39;00m \u001b[38;5;28mself\u001b[39m.n_samples \u001b[38;5;129;01mis\u001b[39;00m \u001b[38;5;129;01mnot\u001b[39;00m \u001b[38;5;28;01mNone\u001b[39;00m:\n\u001b[32m     47\u001b[39m     \u001b[38;5;28mprint\u001b[39m(\u001b[33mf\u001b[39m\u001b[33m'\u001b[39m\u001b[33m[\u001b[39m\u001b[38;5;132;01m{\u001b[39;00m\u001b[38;5;28mself\u001b[39m.\u001b[34m__class__\u001b[39m.\u001b[34m__name__\u001b[39m\u001b[38;5;132;01m}\u001b[39;00m\u001b[33m] Sampling \u001b[39m\u001b[38;5;132;01m{\u001b[39;00m\u001b[38;5;28mself\u001b[39m.n_samples\u001b[38;5;132;01m}\u001b[39;00m\u001b[33m bags...\u001b[39m\u001b[33m'\u001b[39m)\n",
      "\u001b[36mFile \u001b[39m\u001b[32m~/TFG/data/datasets/ProcessedMILDataset.py:34\u001b[39m, in \u001b[36mProcessedMILDataset.__init__\u001b[39m\u001b[34m(self, processed_data_path, data_path, keep_in_memory, adj_mat_mode, **kwargs)\u001b[39m\n\u001b[32m     31\u001b[39m \u001b[38;5;28;01mif\u001b[39;00m \u001b[38;5;28mself\u001b[39m.adj_mat_mode \u001b[38;5;129;01mnot\u001b[39;00m \u001b[38;5;129;01min\u001b[39;00m [\u001b[33m'\u001b[39m\u001b[33mrelative\u001b[39m\u001b[33m'\u001b[39m, \u001b[33m'\u001b[39m\u001b[33mabsolute\u001b[39m\u001b[33m'\u001b[39m]:\n\u001b[32m     32\u001b[39m     \u001b[38;5;28;01mraise\u001b[39;00m \u001b[38;5;167;01mValueError\u001b[39;00m(\u001b[33mf\u001b[39m\u001b[33m\"\u001b[39m\u001b[33m[\u001b[39m\u001b[38;5;132;01m{\u001b[39;00m\u001b[38;5;28mself\u001b[39m.\u001b[34m__class__\u001b[39m.\u001b[34m__name__\u001b[39m\u001b[38;5;132;01m}\u001b[39;00m\u001b[33m] Invalid adj_mat_mode: \u001b[39m\u001b[38;5;132;01m{\u001b[39;00m\u001b[38;5;28mself\u001b[39m.adj_mat_mode\u001b[38;5;132;01m}\u001b[39;00m\u001b[33m. Only \u001b[39m\u001b[33m'\u001b[39m\u001b[33mrelative\u001b[39m\u001b[33m'\u001b[39m\u001b[33m and \u001b[39m\u001b[33m'\u001b[39m\u001b[33mabsolute\u001b[39m\u001b[33m'\u001b[39m\u001b[33m are supported.\u001b[39m\u001b[33m\"\u001b[39m)\n\u001b[32m---> \u001b[39m\u001b[32m34\u001b[39m \u001b[38;5;28;43msuper\u001b[39;49m\u001b[43m(\u001b[49m\u001b[43mProcessedMILDataset\u001b[49m\u001b[43m,\u001b[49m\u001b[43m \u001b[49m\u001b[38;5;28;43mself\u001b[39;49m\u001b[43m)\u001b[49m\u001b[43m.\u001b[49m\u001b[34;43m__init__\u001b[39;49m\u001b[43m(\u001b[49m\u001b[43m*\u001b[49m\u001b[43m*\u001b[49m\u001b[43mkwargs\u001b[49m\u001b[43m)\u001b[49m\n\u001b[32m     36\u001b[39m \u001b[38;5;28mself\u001b[39m.processed = \u001b[38;5;28mself\u001b[39m._check_already_processed()\n\u001b[32m     38\u001b[39m \u001b[38;5;28;01mif\u001b[39;00m \u001b[38;5;129;01mnot\u001b[39;00m \u001b[38;5;28mself\u001b[39m.processed:\n",
      "\u001b[36mFile \u001b[39m\u001b[32m~/TFG/data/datasets/MILDataset.py:29\u001b[39m, in \u001b[36mMILDataset.__init__\u001b[39m\u001b[34m(self, adj_mat_mode, **kwargs)\u001b[39m\n\u001b[32m     24\u001b[39m     \u001b[38;5;28msetattr\u001b[39m(\u001b[38;5;28mself\u001b[39m, k, v)\n\u001b[32m     26\u001b[39m \u001b[38;5;66;03m# self.data_path = data_path\u001b[39;00m\n\u001b[32m     27\u001b[39m \u001b[38;5;66;03m# self.csv_path = csv_path\u001b[39;00m\n\u001b[32m---> \u001b[39m\u001b[32m29\u001b[39m \u001b[38;5;28mself\u001b[39m.data_dict = \u001b[38;5;28;43mself\u001b[39;49m\u001b[43m.\u001b[49m\u001b[43m_init_data_dict\u001b[49m\u001b[43m(\u001b[49m\u001b[43m)\u001b[49m\n\u001b[32m     30\u001b[39m \u001b[38;5;28mself\u001b[39m.bag_names = \u001b[38;5;28mlist\u001b[39m(\u001b[38;5;28mself\u001b[39m.data_dict.keys())\n\u001b[32m     31\u001b[39m \u001b[38;5;66;03m# Data dict: { bag_name: { 'bag_label': int, 'inst_paths' : [str, str, ...], 'inst_labels': array, 'adj_mat' : array} }\u001b[39;00m\n",
      "\u001b[36mFile \u001b[39m\u001b[32m~/TFG/data/datasets/WSIDataset.py:76\u001b[39m, in \u001b[36mWSIDataset._init_data_dict\u001b[39m\u001b[34m(self)\u001b[39m\n\u001b[32m     73\u001b[39m \u001b[38;5;28;01mdef\u001b[39;00m\u001b[38;5;250m \u001b[39m\u001b[34m_init_data_dict\u001b[39m(\u001b[38;5;28mself\u001b[39m):\n\u001b[32m     74\u001b[39m     \u001b[38;5;28mprint\u001b[39m(\u001b[33mf\u001b[39m\u001b[33m'\u001b[39m\u001b[33m[\u001b[39m\u001b[38;5;132;01m{\u001b[39;00m\u001b[38;5;28mself\u001b[39m.\u001b[34m__class__\u001b[39m.\u001b[34m__name__\u001b[39m\u001b[38;5;132;01m}\u001b[39;00m\u001b[33m] Scanning files...\u001b[39m\u001b[33m'\u001b[39m)\n\u001b[32m---> \u001b[39m\u001b[32m76\u001b[39m     bag_names_list, bag_labels_list = \u001b[38;5;28;43mself\u001b[39;49m\u001b[43m.\u001b[49m\u001b[43m_read_csv\u001b[49m\u001b[43m(\u001b[49m\u001b[43m)\u001b[49m        \n\u001b[32m     78\u001b[39m     \u001b[38;5;66;03m# Obtain patch extraction atributes from first bag\u001b[39;00m\n\u001b[32m     79\u001b[39m     bag_name = bag_names_list[\u001b[32m0\u001b[39m]\n",
      "\u001b[36mFile \u001b[39m\u001b[32m~/TFG/data/datasets/WSIDataset.py:56\u001b[39m, in \u001b[36mWSIDataset._read_csv\u001b[39m\u001b[34m(self)\u001b[39m\n\u001b[32m     54\u001b[39m     \u001b[38;5;28;01mreturn\u001b[39;00m \u001b[38;5;28mself\u001b[39m.read_csv_fn(\u001b[38;5;28mself\u001b[39m.csv_path)\n\u001b[32m     55\u001b[39m \u001b[38;5;28;01melse\u001b[39;00m:\n\u001b[32m---> \u001b[39m\u001b[32m56\u001b[39m     \u001b[38;5;28;01mraise\u001b[39;00m \u001b[38;5;167;01mNotImplementedError\u001b[39;00m\n",
      "\u001b[31mNotImplementedError\u001b[39m: "
     ]
    }
   ],
   "source": [
    "from data.datasets.WSIDataset import WSIDataset\n",
    "\n",
    "SIZE = 512\n",
    "RESIZE_SIZE = 256\n",
    "DATA_DIR = f'/data/data_fran/Panda/patches_{SIZE}'\n",
    "\n",
    "data_path = f'/data/data_fran/Panda/patches_{SIZE}/raw/features_resnet18/'\n",
    "processed_data_path = f'/data/data_fran/Panda/patches_{SIZE}/processed/features_resnet18/'\n",
    "# csv_path = f'/data/data_fran/Panda/patches_{SIZE}/train_patches.csv'\n",
    "csv_path = f'/data/data_fran/Panda/patches_{SIZE}/test_patches.csv'\n",
    "\n",
    "dataset = WSIDataset(processed_data_path=processed_data_path, csv_path=csv_path, use_patch_distances=False)"
   ]
  }
 ],
 "metadata": {
  "kernelspec": {
   "display_name": "tfg",
   "language": "python",
   "name": "python3"
  },
  "language_info": {
   "codemirror_mode": {
    "name": "ipython",
    "version": 3
   },
   "file_extension": ".py",
   "mimetype": "text/x-python",
   "name": "python",
   "nbconvert_exporter": "python",
   "pygments_lexer": "ipython3",
   "version": "3.11.11"
  }
 },
 "nbformat": 4,
 "nbformat_minor": 2
}
