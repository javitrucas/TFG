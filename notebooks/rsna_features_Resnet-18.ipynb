{
 "cells": [
  {
   "cell_type": "markdown",
   "metadata": {},
   "source": [
    "***Prueba de MIL con rsna usando features de ResNet-18***"
   ]
  },
  {
   "cell_type": "code",
   "execution_count": 1,
   "metadata": {},
   "outputs": [
    {
     "name": "stdout",
     "output_type": "stream",
     "text": [
      "/home/javitrucas/miniconda3/envs/tfg/bin/python\n"
     ]
    }
   ],
   "source": [
    "import sys\n",
    "print(sys.executable)"
   ]
  },
  {
   "cell_type": "code",
   "execution_count": 2,
   "metadata": {},
   "outputs": [],
   "source": [
    "import os\n",
    "import sys\n",
    "import torch\n",
    "import wandb\n",
    "import torch.optim as optim\n",
    "import matplotlib.pyplot as plt\n",
    "import seaborn as sns"
   ]
  },
  {
   "cell_type": "code",
   "execution_count": 3,
   "metadata": {},
   "outputs": [],
   "source": [
    "import sys\n",
    "import os\n",
    "\n",
    "# Agregar el directorio raíz del proyecto a sys.path\n",
    "project_root = \"/home/javitrucas/TFG\"\n",
    "if project_root not in sys.path:\n",
    "    sys.path.append(project_root)"
   ]
  },
  {
   "cell_type": "code",
   "execution_count": 4,
   "metadata": {},
   "outputs": [
    {
     "name": "stderr",
     "output_type": "stream",
     "text": [
      "/home/javitrucas/miniconda3/envs/tfg/lib/python3.11/site-packages/torchvision/io/image.py:13: UserWarning: Failed to load image Python extension: '/home/javitrucas/miniconda3/envs/tfg/lib/python3.11/site-packages/torchvision/image.so: undefined symbol: _ZN3c1017RegisterOperatorsD1Ev'If you don't plan on using image functionality from `torchvision.io`, you can ignore this warning. Otherwise, there might be something wrong with your environment. Did you have `libjpeg` or `libpng` installed before building `torchvision` from source?\n",
      "  warn(\n"
     ]
    }
   ],
   "source": [
    "from scripts.dataset_loader import load_dataset\n",
    "from scripts.medical_scripts.medical_evaluation import ModelEvaluator\n",
    "from scripts.medical_scripts.medical_training import Training\n",
    "from scripts.MIL_utils import MIL_collate_fn\n",
    "\n",
    "from types import SimpleNamespace\n",
    "from box import Box"
   ]
  },
  {
   "cell_type": "code",
   "execution_count": 5,
   "metadata": {},
   "outputs": [],
   "source": [
    "import matplotlib.pyplot as plt\n",
    "import seaborn as sns\n",
    "\n",
    "def visualize_results(results):\n",
    "    \"\"\"\n",
    "    Visualiza las métricas de entrenamiento, validación y prueba.\n",
    "    Los resultados deben contener claves específicas para cada métrica.\n",
    "    \"\"\"\n",
    "    \n",
    "    # 1. Matriz de confusión\n",
    "    if \"confusion_matrix\" in results:\n",
    "        cm = results[\"confusion_matrix\"]\n",
    "        plt.figure(figsize=(8, 6))\n",
    "        sns.heatmap(cm, annot=True, fmt=\"d\", cmap=\"Blues\")\n",
    "        plt.title(\"Confusion Matrix\")\n",
    "        plt.xlabel(\"Predicted\")\n",
    "        plt.ylabel(\"True\")\n",
    "        plt.show()\n",
    "\n",
    "    # 2. Curvas de pérdida (loss)\n",
    "    if \"train_loss_curve\" in results or \"val_loss_curve\" in results or \"test_loss_curve\" in results:\n",
    "        plt.figure(figsize=(10, 6))\n",
    "        if \"train_loss_curve\" in results:\n",
    "            plt.plot(results[\"train_loss_curve\"], label=\"Training Loss\", color=\"blue\")\n",
    "        if \"val_loss_curve\" in results:\n",
    "            plt.plot(results[\"val_loss_curve\"], label=\"Validation Loss\", color=\"orange\")\n",
    "        if \"test_loss_curve\" in results:\n",
    "            plt.plot(results[\"test_loss_curve\"], label=\"Test Loss\", color=\"green\")\n",
    "        plt.title(\"Loss Curves\")\n",
    "        plt.xlabel(\"Epochs\")\n",
    "        plt.ylabel(\"Loss\")\n",
    "        plt.legend()\n",
    "        plt.grid()\n",
    "        plt.show()\n",
    "\n",
    "    # 3. Curvas de precisión (accuracy)\n",
    "    if \"train_accuracy_curve\" in results or \"val_accuracy_curve\" in results or \"test_accuracy_curve\" in results:\n",
    "        plt.figure(figsize=(10, 6))\n",
    "        if \"train_accuracy_curve\" in results:\n",
    "            plt.plot(results[\"train_accuracy_curve\"], label=\"Training Accuracy\", color=\"blue\")\n",
    "        if \"val_accuracy_curve\" in results:\n",
    "            plt.plot(results[\"val_accuracy_curve\"], label=\"Validation Accuracy\", color=\"orange\")\n",
    "        if \"test_accuracy_curve\" in results:\n",
    "            plt.plot(results[\"test_accuracy_curve\"], label=\"Test Accuracy\", color=\"green\")\n",
    "        plt.title(\"Accuracy Curves\")\n",
    "        plt.xlabel(\"Epochs\")\n",
    "        plt.ylabel(\"Accuracy\")\n",
    "        plt.legend()\n",
    "        plt.grid()\n",
    "        plt.show()\n",
    "\n",
    "    # 4. F1-Score\n",
    "    if \"train_f1_score\" in results or \"val_f1_score\" in results or \"test_f1_score\" in results:\n",
    "        plt.figure(figsize=(10, 6))\n",
    "        if \"train_f1_score\" in results:\n",
    "            plt.plot(results[\"train_f1_score\"], label=\"Training F1-Score\", color=\"blue\")\n",
    "        if \"val_f1_score\" in results:\n",
    "            plt.plot(results[\"val_f1_score\"], label=\"Validation F1-Score\", color=\"orange\")\n",
    "        if \"test_f1_score\" in results:\n",
    "            plt.plot(results[\"test_f1_score\"], label=\"Test F1-Score\", color=\"green\")\n",
    "        plt.title(\"F1-Score Curves\")\n",
    "        plt.xlabel(\"Epochs\")\n",
    "        plt.ylabel(\"F1-Score\")\n",
    "        plt.legend()\n",
    "        plt.grid()\n",
    "        plt.show()\n",
    "\n",
    "    # 5. AUC-ROC\n",
    "    if \"train_auc_roc\" in results or \"val_auc_roc\" in results or \"test_auc_roc\" in results:\n",
    "        plt.figure(figsize=(10, 6))\n",
    "        if \"train_auc_roc\" in results:\n",
    "            plt.plot(results[\"train_auc_roc\"], label=\"Training AUC-ROC\", color=\"blue\")\n",
    "        if \"val_auc_roc\" in results:\n",
    "            plt.plot(results[\"val_auc_roc\"], label=\"Validation AUC-ROC\", color=\"orange\")\n",
    "        if \"test_auc_roc\" in results:\n",
    "            plt.plot(results[\"test_auc_roc\"], label=\"Test AUC-ROC\", color=\"green\")\n",
    "        plt.title(\"AUC-ROC Curves\")\n",
    "        plt.xlabel(\"Epochs\")\n",
    "        plt.ylabel(\"AUC-ROC\")\n",
    "        plt.legend()\n",
    "        plt.grid()\n",
    "        plt.show()\n",
    "\n",
    "    # 6. Precision\n",
    "    if \"train_precision\" in results or \"val_precision\" in results or \"test_precision\" in results:\n",
    "        plt.figure(figsize=(10, 6))\n",
    "        if \"train_precision\" in results:\n",
    "            plt.plot(results[\"train_precision\"], label=\"Training Precision\", color=\"blue\")\n",
    "        if \"val_precision\" in results:\n",
    "            plt.plot(results[\"val_precision\"], label=\"Validation Precision\", color=\"orange\")\n",
    "        if \"test_precision\" in results:\n",
    "            plt.plot(results[\"test_precision\"], label=\"Test Precision\", color=\"green\")\n",
    "        plt.title(\"Precision Curves\")\n",
    "        plt.xlabel(\"Epochs\")\n",
    "        plt.ylabel(\"Precision\")\n",
    "        plt.legend()\n",
    "        plt.grid()\n",
    "        plt.show()\n",
    "\n",
    "    # 7. Recall\n",
    "    if \"train_recall\" in results or \"val_recall\" in results or \"test_recall\" in results:\n",
    "        plt.figure(figsize=(10, 6))\n",
    "        if \"train_recall\" in results:\n",
    "            plt.plot(results[\"train_recall\"], label=\"Training Recall\", color=\"blue\")\n",
    "        if \"val_recall\" in results:\n",
    "            plt.plot(results[\"val_recall\"], label=\"Validation Recall\", color=\"orange\")\n",
    "        if \"test_recall\" in results:\n",
    "            plt.plot(results[\"test_recall\"], label=\"Test Recall\", color=\"green\")\n",
    "        plt.title(\"Recall Curves\")\n",
    "        plt.xlabel(\"Epochs\")\n",
    "        plt.ylabel(\"Recall\")\n",
    "        plt.legend()\n",
    "        plt.grid()\n",
    "        plt.show()\n",
    "\n",
    "    # 8. AUROC (Area Under the Receiver Operating Characteristic Curve)\n",
    "    if \"train_auroc\" in results or \"val_auroc\" in results or \"test_auroc\" in results:\n",
    "        plt.figure(figsize=(10, 6))\n",
    "        if \"train_auroc\" in results:\n",
    "            plt.plot(results[\"train_auroc\"], label=\"Training AUROC\", color=\"blue\")\n",
    "        if \"val_auroc\" in results:\n",
    "            plt.plot(results[\"val_auroc\"], label=\"Validation AUROC\", color=\"orange\")\n",
    "        if \"test_auroc\" in results:\n",
    "            plt.plot(results[\"test_auroc\"], label=\"Test AUROC\", color=\"green\")\n",
    "        plt.title(\"AUROC Curves\")\n",
    "        plt.xlabel(\"Epochs\")\n",
    "        plt.ylabel(\"AUROC\")\n",
    "        plt.legend()\n",
    "        plt.grid()\n",
    "        plt.show()\n",
    "\n",
    "    # 9. Learning Rate (si está disponible)\n",
    "    if \"learning_rate\" in results:\n",
    "        plt.figure(figsize=(10, 6))\n",
    "        plt.plot(results[\"learning_rate\"], label=\"Learning Rate\", color=\"purple\")\n",
    "        plt.title(\"Learning Rate Schedule\")\n",
    "        plt.xlabel(\"Epochs\")\n",
    "        plt.ylabel(\"Learning Rate\")\n",
    "        plt.legend()\n",
    "        plt.grid()\n",
    "        plt.show()"
   ]
  },
  {
   "cell_type": "code",
   "execution_count": null,
   "metadata": {},
   "outputs": [],
   "source": [
    "def run_experiment(config):\n",
    "    # Crear un objeto temporal para compatibilidad\n",
    "    class TempConfig:\n",
    "        def __init__(self, config_dict):\n",
    "            self.__dict__.update(config_dict)\n",
    "\n",
    "    config_obj = TempConfig(config)\n",
    "\n",
    "    # Iniciar wandb\n",
    "    wandb.init(\n",
    "        project=\"TFG\",\n",
    "        config=config\n",
    "    )\n",
    "\n",
    "    # Parámetros controlados dentro del código\n",
    "    dataset_name = config_obj.dataset_name\n",
    "    num_epochs = config_obj.num_epochs\n",
    "    learning_rate = config_obj.learning_rate\n",
    "    batch_size = config_obj.batch_size\n",
    "\n",
    "    # Directorio para guardar modelos\n",
    "    output_model_dir = f\"./models/{dataset_name.split('-')[0]}\"\n",
    "    os.makedirs(output_model_dir, exist_ok=True)\n",
    "\n",
    "    # Cargar datasets usando dataset_loader.py\n",
    "    train_dataset, val_dataset = load_dataset(config=config, mode=\"train_val\")\n",
    "    test_dataset = load_dataset(config=config, mode=\"test\")\n",
    "\n",
    "    # Crear dataloaders con MIL_collate_fn\n",
    "    train_loader = torch.utils.data.DataLoader(train_dataset, batch_size=batch_size, shuffle=True, collate_fn=MIL_collate_fn)\n",
    "    val_loader = torch.utils.data.DataLoader(val_dataset, batch_size=batch_size, shuffle=False, collate_fn=MIL_collate_fn)\n",
    "    test_loader = torch.utils.data.DataLoader(test_dataset, batch_size=batch_size, shuffle=False, collate_fn=MIL_collate_fn)\n",
    "\n",
    "    # Iniciar el entrenamiento\n",
    "    trainer = Training(\n",
    "        train_loader=train_loader,\n",
    "        val_loader=val_loader,\n",
    "        num_epochs=num_epochs,\n",
    "        learning_rate=learning_rate,\n",
    "        output_model_dir=output_model_dir,\n",
    "        wandb=wandb\n",
    "    )\n",
    "    trainer.train()\n",
    "\n",
    "    # Guardar el modelo como un artefacto en wandb\n",
    "    model_path = os.path.join(output_model_dir, 'model.pth')\n",
    "    artifact = wandb.Artifact('model', type='model')\n",
    "    artifact.add_file(model_path)\n",
    "    wandb.log_artifact(artifact)\n",
    "\n",
    "    # Iniciar la evaluación\n",
    "    evaluator = ModelEvaluator(\n",
    "        model_path=model_path,\n",
    "        test_loader=test_loader,\n",
    "        batch_size=batch_size,\n",
    "        wandb=wandb\n",
    "    )\n",
    "    results = evaluator.evaluate()\n",
    "\n",
    "    luego_actualizar = \"\"\"\n",
    "    # Agregar métricas adicionales a results si no están incluidas\n",
    "    results.update({\n",
    "        \"train_loss_curve\": trainer.train_loss_curve,\n",
    "        \"val_loss_curve\": trainer.val_loss_curve,\n",
    "        \"train_accuracy_curve\": trainer.train_accuracy_curve,\n",
    "        \"val_accuracy_curve\": trainer.val_accuracy_curve,\n",
    "        \"test_loss_curve\": evaluator.test_loss_curve,\n",
    "        \"test_accuracy_curve\": evaluator.test_accuracy_curve,\n",
    "        \"train_f1_score\": trainer.train_f1_score,\n",
    "        \"val_f1_score\": trainer.val_f1_score,\n",
    "        \"test_f1_score\": evaluator.test_f1_score,\n",
    "        \"train_auc_roc\": trainer.train_auc_roc,\n",
    "        \"val_auc_roc\": trainer.val_auc_roc,\n",
    "        \"test_auc_roc\": evaluator.test_auc_roc,\n",
    "        \"train_precision\": trainer.train_precision,\n",
    "        \"val_precision\": trainer.val_precision,\n",
    "        \"test_precision\": evaluator.test_precision,\n",
    "        \"train_recall\": trainer.train_recall,\n",
    "        \"val_recall\": trainer.val_recall,\n",
    "        \"test_recall\": evaluator.test_recall,\n",
    "        \"confusion_matrix\": evaluator.confusion_matrix\n",
    "    })\n",
    "    \"\"\"\n",
    "\n",
    "    # Visualizar resultados\n",
    "    visualize_results(results)\n",
    "\n",
    "    # Finalizar wandb\n",
    "    wandb.finish()"
   ]
  },
  {
   "cell_type": "code",
   "execution_count": null,
   "metadata": {},
   "outputs": [
    {
     "data": {
      "text/html": [
       "Tracking run with wandb version 0.19.7"
      ],
      "text/plain": [
       "<IPython.core.display.HTML object>"
      ]
     },
     "metadata": {},
     "output_type": "display_data"
    },
    {
     "data": {
      "text/html": [
       "Run data is saved locally in <code>/home/javitrucas/TFG/notebooks/wandb/run-20250305_181211-ro4igh1h</code>"
      ],
      "text/plain": [
       "<IPython.core.display.HTML object>"
      ]
     },
     "metadata": {},
     "output_type": "display_data"
    },
    {
     "data": {
      "text/html": [
       "Syncing run <strong><a href='https://wandb.ai/javitrucas-universidad-de-granada/TFG-rsna/runs/ro4igh1h' target=\"_blank\">upbeat-sea-1</a></strong> to <a href='https://wandb.ai/javitrucas-universidad-de-granada/TFG-rsna' target=\"_blank\">Weights & Biases</a> (<a href='https://wandb.me/developer-guide' target=\"_blank\">docs</a>)<br>"
      ],
      "text/plain": [
       "<IPython.core.display.HTML object>"
      ]
     },
     "metadata": {},
     "output_type": "display_data"
    },
    {
     "data": {
      "text/html": [
       " View project at <a href='https://wandb.ai/javitrucas-universidad-de-granada/TFG-rsna' target=\"_blank\">https://wandb.ai/javitrucas-universidad-de-granada/TFG-rsna</a>"
      ],
      "text/plain": [
       "<IPython.core.display.HTML object>"
      ]
     },
     "metadata": {},
     "output_type": "display_data"
    },
    {
     "data": {
      "text/html": [
       " View run at <a href='https://wandb.ai/javitrucas-universidad-de-granada/TFG-rsna/runs/ro4igh1h' target=\"_blank\">https://wandb.ai/javitrucas-universidad-de-granada/TFG-rsna/runs/ro4igh1h</a>"
      ],
      "text/plain": [
       "<IPython.core.display.HTML object>"
      ]
     },
     "metadata": {},
     "output_type": "display_data"
    },
    {
     "name": "stdout",
     "output_type": "stream",
     "text": [
      "rsna\n",
      "[RSNADataset] Scanning files...\n",
      "[RSNADataset] Found 1000 already processed bags\n",
      "[RSNADataset] Number of bags found: 1000\n",
      "rsna\n",
      "[RSNADataset] Scanning files...\n",
      "[RSNADataset] Found 150 already processed bags\n",
      "[RSNADataset] Number of bags found: 150\n",
      "Epoch 1/4, Train Loss: 0.6647, Train Accuracy: 0.6100, Val Loss: 0.6311, Val Accuracy: 0.6650\n",
      "Final model saved to ./models/rsna/model.pth\n",
      "Epoch 2/4, Train Loss: 0.5961, Train Accuracy: 0.6750, Val Loss: 0.5815, Val Accuracy: 0.7200\n",
      "Final model saved to ./models/rsna/model.pth\n",
      "Epoch 3/4, Train Loss: 0.5602, Train Accuracy: 0.7175, Val Loss: 0.5502, Val Accuracy: 0.7250\n",
      "Final model saved to ./models/rsna/model.pth\n",
      "Epoch 4/4, Train Loss: 0.4955, Train Accuracy: 0.7562, Val Loss: 0.5799, Val Accuracy: 0.7100\n",
      "Final model saved to ./models/rsna/model.pth\n",
      "Model loaded successfully from ./models/rsna/model.pth\n",
      "\n",
      "--- Evaluation Results ---\n",
      "Optimal Threshold: 0.3220\n",
      "Accuracy: 0.7733, AUC: 0.8549\n",
      "Precision: 0.7794, Recall: 0.7361, F1-Score: 0.7571\n",
      "Confusion Matrix:\n",
      "[[63 15]\n",
      " [19 53]]\n"
     ]
    },
    {
     "data": {
      "image/png": "[encoded data removed]",
      "text/plain": [
       "<Figure size 800x600 with 2 Axes>"
      ]
     },
     "metadata": {},
     "output_type": "display_data"
    },
    {
     "data": {
      "text/html": [],
      "text/plain": [
       "<IPython.core.display.HTML object>"
      ]
     },
     "metadata": {},
     "output_type": "display_data"
    },
    {
     "data": {
      "text/html": [
       "<br>    <style><br>        .wandb-row {<br>            display: flex;<br>            flex-direction: row;<br>            flex-wrap: wrap;<br>            justify-content: flex-start;<br>            width: 100%;<br>        }<br>        .wandb-col {<br>            display: flex;<br>            flex-direction: column;<br>            flex-basis: 100%;<br>            flex: 1;<br>            padding: 10px;<br>        }<br>    </style><br><div class=\"wandb-row\"><div class=\"wandb-col\"><h3>Run history:</h3><br/><table class=\"wandb\"><tr><td>epoch</td><td>▁▃▆█</td></tr><tr><td>test_accuracy</td><td>▁</td></tr><tr><td>test_auc</td><td>▁</td></tr><tr><td>test_f1</td><td>▁</td></tr><tr><td>test_precision</td><td>▁</td></tr><tr><td>test_recall</td><td>▁</td></tr><tr><td>train_accuracy</td><td>▁▄▆█</td></tr><tr><td>train_loss</td><td>█▅▄▁</td></tr><tr><td>val_accuracy</td><td>▁▇█▆</td></tr><tr><td>val_auc</td><td>▁▅▇█</td></tr><tr><td>val_f1</td><td>█▆▇▁</td></tr><tr><td>val_loss</td><td>█▄▁▄</td></tr><tr><td>val_precision</td><td>▁▆▆█</td></tr><tr><td>val_recall</td><td>█▄▄▁</td></tr></table><br/></div><div class=\"wandb-col\"><h3>Run summary:</h3><br/><table class=\"wandb\"><tr><td>epoch</td><td>4</td></tr><tr><td>test_accuracy</td><td>0.77333</td></tr><tr><td>test_auc</td><td>0.85488</td></tr><tr><td>test_f1</td><td>0.75714</td></tr><tr><td>test_precision</td><td>0.77941</td></tr><tr><td>test_recall</td><td>0.73611</td></tr><tr><td>train_accuracy</td><td>0.75625</td></tr><tr><td>train_loss</td><td>0.49547</td></tr><tr><td>val_accuracy</td><td>0.71</td></tr><tr><td>val_auc</td><td>0.79971</td></tr><tr><td>val_f1</td><td>0.53226</td></tr><tr><td>val_loss</td><td>0.57992</td></tr><tr><td>val_precision</td><td>0.78571</td></tr><tr><td>val_recall</td><td>0.40244</td></tr></table><br/></div></div>"
      ],
      "text/plain": [
       "<IPython.core.display.HTML object>"
      ]
     },
     "metadata": {},
     "output_type": "display_data"
    },
    {
     "data": {
      "text/html": [
       " View run <strong style=\"color:#cdcd00\">upbeat-sea-1</strong> at: <a href='https://wandb.ai/javitrucas-universidad-de-granada/TFG-rsna/runs/ro4igh1h' target=\"_blank\">https://wandb.ai/javitrucas-universidad-de-granada/TFG-rsna/runs/ro4igh1h</a><br> View project at: <a href='https://wandb.ai/javitrucas-universidad-de-granada/TFG-rsna' target=\"_blank\">https://wandb.ai/javitrucas-universidad-de-granada/TFG-rsna</a><br>Synced 5 W&B file(s), 5 media file(s), 12 artifact file(s) and 0 other file(s)"
      ],
      "text/plain": [
       "<IPython.core.display.HTML object>"
      ]
     },
     "metadata": {},
     "output_type": "display_data"
    },
    {
     "data": {
      "text/html": [
       "Find logs at: <code>./wandb/run-20250305_181211-ro4igh1h/logs</code>"
      ],
      "text/plain": [
       "<IPython.core.display.HTML object>"
      ]
     },
     "metadata": {},
     "output_type": "display_data"
    }
   ],
   "source": [
    "# Convertir config_1 en un objeto usando Box\n",
    "config_1 = Box({\n",
    "    \"dataset_name\": \"rsna-features_resnet18\",\n",
    "    \"num_epochs\": 50,\n",
    "    \"learning_rate\": 1e-3,\n",
    "    \"batch_size\": 1,\n",
    "    \"val_prop\": 0.2,\n",
    "    \"seed\": 42,\n",
    "    \"use_inst_distances\": False,\n",
    "    \"adj_mat_mode\": \"relative\"\n",
    "})\n",
    "\n",
    "# Ejecutar el experimento\n",
    "run_experiment(config_1)"
   ]
  },
  {
   "cell_type": "code",
   "execution_count": null,
   "metadata": {},
   "outputs": [
    {
     "name": "stdout",
     "output_type": "stream",
     "text": [
      "rsna\n",
      "[RSNADataset] Scanning files...\n"
     ]
    },
    {
     "ename": "KeyboardInterrupt",
     "evalue": "",
     "output_type": "error",
     "traceback": [
      "\u001b[31m---------------------------------------------------------------------------\u001b[39m",
      "\u001b[31mKeyboardInterrupt\u001b[39m                         Traceback (most recent call last)",
      "\u001b[36mCell\u001b[39m\u001b[36m \u001b[39m\u001b[32mIn[18]\u001b[39m\u001b[32m, line 16\u001b[39m\n\u001b[32m      4\u001b[39m config_2 = Box({\n\u001b[32m      5\u001b[39m     \u001b[33m\"\u001b[39m\u001b[33mdataset_name\u001b[39m\u001b[33m\"\u001b[39m: \u001b[33m\"\u001b[39m\u001b[33mrsna-features_resnet18\u001b[39m\u001b[33m\"\u001b[39m,\n\u001b[32m      6\u001b[39m     \u001b[33m\"\u001b[39m\u001b[33mnum_epochs\u001b[39m\u001b[33m\"\u001b[39m: \u001b[32m50\u001b[39m,\n\u001b[32m   (...)\u001b[39m\u001b[32m     12\u001b[39m     \u001b[33m\"\u001b[39m\u001b[33madj_mat_mode\u001b[39m\u001b[33m\"\u001b[39m: \u001b[33m\"\u001b[39m\u001b[33mrelative\u001b[39m\u001b[33m\"\u001b[39m\n\u001b[32m     13\u001b[39m })\n\u001b[32m     15\u001b[39m \u001b[38;5;66;03m# Ejecutar el experimento\u001b[39;00m\n\u001b[32m---> \u001b[39m\u001b[32m16\u001b[39m \u001b[43mrun_experiment\u001b[49m\u001b[43m(\u001b[49m\u001b[43mconfig_2\u001b[49m\u001b[43m)\u001b[49m\n",
      "\u001b[36mCell\u001b[39m\u001b[36m \u001b[39m\u001b[32mIn[15]\u001b[39m\u001b[32m, line 26\u001b[39m, in \u001b[36mrun_experiment\u001b[39m\u001b[34m(config)\u001b[39m\n\u001b[32m     23\u001b[39m os.makedirs(output_model_dir, exist_ok=\u001b[38;5;28;01mTrue\u001b[39;00m)\n\u001b[32m     25\u001b[39m \u001b[38;5;66;03m# Cargar datasets usando dataset_loader.py\u001b[39;00m\n\u001b[32m---> \u001b[39m\u001b[32m26\u001b[39m train_dataset, val_dataset = \u001b[43mload_dataset\u001b[49m\u001b[43m(\u001b[49m\u001b[43mconfig\u001b[49m\u001b[43m=\u001b[49m\u001b[43mconfig\u001b[49m\u001b[43m,\u001b[49m\u001b[43m \u001b[49m\u001b[43mmode\u001b[49m\u001b[43m=\u001b[49m\u001b[33;43m\"\u001b[39;49m\u001b[33;43mtrain_val\u001b[39;49m\u001b[33;43m\"\u001b[39;49m\u001b[43m)\u001b[49m\n\u001b[32m     27\u001b[39m test_dataset = load_dataset(config=config, mode=\u001b[33m\"\u001b[39m\u001b[33mtest\u001b[39m\u001b[33m\"\u001b[39m)\n\u001b[32m     29\u001b[39m \u001b[38;5;66;03m# Crear dataloaders con MIL_collate_fn\u001b[39;00m\n",
      "\u001b[36mFile \u001b[39m\u001b[32m~/TFG/scripts/dataset_loader.py:37\u001b[39m, in \u001b[36mload_dataset\u001b[39m\u001b[34m(config, mode, bag_size_limit)\u001b[39m\n\u001b[32m     34\u001b[39m \u001b[38;5;28;01melse\u001b[39;00m:\n\u001b[32m     35\u001b[39m     csv_path = \u001b[33mf\u001b[39m\u001b[33m'\u001b[39m\u001b[38;5;132;01m{\u001b[39;00mCLUSTER_DATA_DIR\u001b[38;5;132;01m}\u001b[39;00m\u001b[33m/RSNA_ICH/bags_test.csv\u001b[39m\u001b[33m'\u001b[39m\n\u001b[32m---> \u001b[39m\u001b[32m37\u001b[39m dataset = \u001b[43mRSNADataset\u001b[49m\u001b[43m(\u001b[49m\u001b[43mdata_path\u001b[49m\u001b[43m=\u001b[49m\u001b[43mdata_path\u001b[49m\u001b[43m,\u001b[49m\u001b[43m \u001b[49m\u001b[43mprocessed_data_path\u001b[49m\u001b[43m=\u001b[49m\u001b[43mprocessed_data_path\u001b[49m\u001b[43m,\u001b[49m\u001b[43m \u001b[49m\u001b[43mcsv_path\u001b[49m\u001b[43m=\u001b[49m\u001b[43mcsv_path\u001b[49m\u001b[43m,\u001b[49m\u001b[43m \u001b[49m\u001b[43mn_samples\u001b[49m\u001b[43m=\u001b[49m\u001b[43mn_samples\u001b[49m\u001b[43m,\u001b[49m\u001b[43m \u001b[49m\u001b[43muse_slice_distances\u001b[49m\u001b[43m=\u001b[49m\u001b[43mconfig\u001b[49m\u001b[43m.\u001b[49m\u001b[43muse_inst_distances\u001b[49m\u001b[43m,\u001b[49m\u001b[43m \u001b[49m\u001b[43madj_mat_mode\u001b[49m\u001b[43m=\u001b[49m\u001b[43mconfig\u001b[49m\u001b[43m.\u001b[49m\u001b[43madj_mat_mode\u001b[49m\u001b[43m)\u001b[49m\n\u001b[32m     39\u001b[39m \u001b[38;5;28;01mif\u001b[39;00m mode==\u001b[33m'\u001b[39m\u001b[33mtrain_val\u001b[39m\u001b[33m'\u001b[39m:        \n\u001b[32m     40\u001b[39m     bags_labels = dataset.get_bag_labels()\n",
      "\u001b[36mFile \u001b[39m\u001b[32m~/TFG/data/datasets/RSNADataset.py:23\u001b[39m, in \u001b[36mRSNADataset.__init__\u001b[39m\u001b[34m(self, data_path, processed_data_path, csv_path, use_slice_distances, n_samples, **kwargs)\u001b[39m\n\u001b[32m     21\u001b[39m \u001b[38;5;28mself\u001b[39m.use_slice_distances = use_slice_distances\n\u001b[32m     22\u001b[39m \u001b[38;5;28mself\u001b[39m.n_samples = n_samples\n\u001b[32m---> \u001b[39m\u001b[32m23\u001b[39m \u001b[38;5;28;43msuper\u001b[39;49m\u001b[43m(\u001b[49m\u001b[43mRSNADataset\u001b[49m\u001b[43m,\u001b[49m\u001b[43m \u001b[49m\u001b[38;5;28;43mself\u001b[39;49m\u001b[43m)\u001b[49m\u001b[43m.\u001b[49m\u001b[34;43m__init__\u001b[39;49m\u001b[43m(\u001b[49m\n\u001b[32m     24\u001b[39m \u001b[43m    \u001b[49m\u001b[43mprocessed_data_path\u001b[49m\u001b[43m \u001b[49m\u001b[43m=\u001b[49m\u001b[43m \u001b[49m\u001b[43mprocessed_data_path\u001b[49m\u001b[43m,\u001b[49m\u001b[43m \u001b[49m\n\u001b[32m     25\u001b[39m \u001b[43m    \u001b[49m\u001b[43mdata_path\u001b[49m\u001b[43m \u001b[49m\u001b[43m=\u001b[49m\u001b[43m \u001b[49m\u001b[43mdata_path\u001b[49m\u001b[43m,\u001b[49m\n\u001b[32m     26\u001b[39m \u001b[43m    \u001b[49m\u001b[43mcsv_path\u001b[49m\u001b[43m \u001b[49m\u001b[43m=\u001b[49m\u001b[43m \u001b[49m\u001b[43mcsv_path\u001b[49m\u001b[43m,\u001b[49m\n\u001b[32m     27\u001b[39m \u001b[43m    \u001b[49m\u001b[43mkeep_in_memory\u001b[49m\u001b[43m \u001b[49m\u001b[43m=\u001b[49m\u001b[43m \u001b[49m\u001b[38;5;28;43;01mTrue\u001b[39;49;00m\u001b[43m,\u001b[49m\u001b[43m \u001b[49m\n\u001b[32m     28\u001b[39m \u001b[43m    \u001b[49m\u001b[43m*\u001b[49m\u001b[43m*\u001b[49m\u001b[43mkwargs\u001b[49m\n\u001b[32m     29\u001b[39m \u001b[43m\u001b[49m\u001b[43m)\u001b[49m\n\u001b[32m     31\u001b[39m \u001b[38;5;28mprint\u001b[39m(\u001b[33mf\u001b[39m\u001b[33m\"\u001b[39m\u001b[33m[RSNADataset] Number of bags found: \u001b[39m\u001b[38;5;132;01m{\u001b[39;00m\u001b[38;5;28mlen\u001b[39m(\u001b[38;5;28mself\u001b[39m.bag_names)\u001b[38;5;132;01m}\u001b[39;00m\u001b[33m\"\u001b[39m)\n\u001b[32m     32\u001b[39m \u001b[38;5;28;01mif\u001b[39;00m \u001b[38;5;28mself\u001b[39m.n_samples \u001b[38;5;129;01mis\u001b[39;00m \u001b[38;5;129;01mnot\u001b[39;00m \u001b[38;5;28;01mNone\u001b[39;00m:\n",
      "\u001b[36mFile \u001b[39m\u001b[32m~/TFG/data/datasets/ProcessedMILDataset.py:34\u001b[39m, in \u001b[36mProcessedMILDataset.__init__\u001b[39m\u001b[34m(self, processed_data_path, data_path, keep_in_memory, adj_mat_mode, **kwargs)\u001b[39m\n\u001b[32m     31\u001b[39m \u001b[38;5;28;01mif\u001b[39;00m \u001b[38;5;28mself\u001b[39m.adj_mat_mode \u001b[38;5;129;01mnot\u001b[39;00m \u001b[38;5;129;01min\u001b[39;00m [\u001b[33m'\u001b[39m\u001b[33mrelative\u001b[39m\u001b[33m'\u001b[39m, \u001b[33m'\u001b[39m\u001b[33mabsolute\u001b[39m\u001b[33m'\u001b[39m]:\n\u001b[32m     32\u001b[39m     \u001b[38;5;28;01mraise\u001b[39;00m \u001b[38;5;167;01mValueError\u001b[39;00m(\u001b[33mf\u001b[39m\u001b[33m\"\u001b[39m\u001b[33m[\u001b[39m\u001b[38;5;132;01m{\u001b[39;00m\u001b[38;5;28mself\u001b[39m.\u001b[34m__class__\u001b[39m.\u001b[34m__name__\u001b[39m\u001b[38;5;132;01m}\u001b[39;00m\u001b[33m] Invalid adj_mat_mode: \u001b[39m\u001b[38;5;132;01m{\u001b[39;00m\u001b[38;5;28mself\u001b[39m.adj_mat_mode\u001b[38;5;132;01m}\u001b[39;00m\u001b[33m. Only \u001b[39m\u001b[33m'\u001b[39m\u001b[33mrelative\u001b[39m\u001b[33m'\u001b[39m\u001b[33m and \u001b[39m\u001b[33m'\u001b[39m\u001b[33mabsolute\u001b[39m\u001b[33m'\u001b[39m\u001b[33m are supported.\u001b[39m\u001b[33m\"\u001b[39m)\n\u001b[32m---> \u001b[39m\u001b[32m34\u001b[39m \u001b[38;5;28;43msuper\u001b[39;49m\u001b[43m(\u001b[49m\u001b[43mProcessedMILDataset\u001b[49m\u001b[43m,\u001b[49m\u001b[43m \u001b[49m\u001b[38;5;28;43mself\u001b[39;49m\u001b[43m)\u001b[49m\u001b[43m.\u001b[49m\u001b[34;43m__init__\u001b[39;49m\u001b[43m(\u001b[49m\u001b[43m*\u001b[49m\u001b[43m*\u001b[49m\u001b[43mkwargs\u001b[49m\u001b[43m)\u001b[49m\n\u001b[32m     36\u001b[39m \u001b[38;5;28mself\u001b[39m.processed = \u001b[38;5;28mself\u001b[39m._check_already_processed()\n\u001b[32m     38\u001b[39m \u001b[38;5;28;01mif\u001b[39;00m \u001b[38;5;129;01mnot\u001b[39;00m \u001b[38;5;28mself\u001b[39m.processed:\n",
      "\u001b[36mFile \u001b[39m\u001b[32m~/TFG/data/datasets/MILDataset.py:29\u001b[39m, in \u001b[36mMILDataset.__init__\u001b[39m\u001b[34m(self, adj_mat_mode, **kwargs)\u001b[39m\n\u001b[32m     24\u001b[39m     \u001b[38;5;28msetattr\u001b[39m(\u001b[38;5;28mself\u001b[39m, k, v)\n\u001b[32m     26\u001b[39m \u001b[38;5;66;03m# self.data_path = data_path\u001b[39;00m\n\u001b[32m     27\u001b[39m \u001b[38;5;66;03m# self.csv_path = csv_path\u001b[39;00m\n\u001b[32m---> \u001b[39m\u001b[32m29\u001b[39m \u001b[38;5;28mself\u001b[39m.data_dict = \u001b[38;5;28;43mself\u001b[39;49m\u001b[43m.\u001b[49m\u001b[43m_init_data_dict\u001b[49m\u001b[43m(\u001b[49m\u001b[43m)\u001b[49m\n\u001b[32m     30\u001b[39m \u001b[38;5;28mself\u001b[39m.bag_names = \u001b[38;5;28mlist\u001b[39m(\u001b[38;5;28mself\u001b[39m.data_dict.keys())\n\u001b[32m     31\u001b[39m \u001b[38;5;66;03m# Data dict: { bag_name: { 'bag_label': int, 'inst_paths' : [str, str, ...], 'inst_labels': array, 'adj_mat' : array} }\u001b[39;00m\n",
      "\u001b[36mFile \u001b[39m\u001b[32m~/TFG/data/datasets/RSNADataset.py:56\u001b[39m, in \u001b[36mRSNADataset._init_data_dict\u001b[39m\u001b[34m(self)\u001b[39m\n\u001b[32m     54\u001b[39m \u001b[38;5;28;01mfor\u001b[39;00m bag_name \u001b[38;5;129;01min\u001b[39;00m df.bag_name.unique():\n\u001b[32m     55\u001b[39m     bag_dict = {} \u001b[38;5;66;03m# { 'bag_label': int, 'inst_paths' : [str, str, ...], 'inst_labels': array, 'L_mat' : array}\u001b[39;00m\n\u001b[32m---> \u001b[39m\u001b[32m56\u001b[39m     bag_df = df[\u001b[43mdf\u001b[49m\u001b[43m.\u001b[49m\u001b[43mbag_name\u001b[49m\u001b[43m==\u001b[49m\u001b[43mbag_name\u001b[49m].sort_values(by=[\u001b[33m'\u001b[39m\u001b[33morder\u001b[39m\u001b[33m'\u001b[39m])\n\u001b[32m     57\u001b[39m     inst_names = [file.split(\u001b[33m'\u001b[39m\u001b[33m.\u001b[39m\u001b[33m'\u001b[39m)[\u001b[32m0\u001b[39m] \u001b[38;5;28;01mfor\u001b[39;00m file \u001b[38;5;129;01min\u001b[39;00m \u001b[38;5;28mlist\u001b[39m(bag_df.instance_name)]\n\u001b[32m     58\u001b[39m     bag_label = \u001b[38;5;28mlist\u001b[39m(bag_df.bag_label)[\u001b[32m0\u001b[39m]\n",
      "\u001b[36mFile \u001b[39m\u001b[32m~/miniconda3/envs/tfg/lib/python3.11/site-packages/pandas/core/ops/common.py:76\u001b[39m, in \u001b[36m_unpack_zerodim_and_defer.<locals>.new_method\u001b[39m\u001b[34m(self, other)\u001b[39m\n\u001b[32m     72\u001b[39m             \u001b[38;5;28;01mreturn\u001b[39;00m \u001b[38;5;28mNotImplemented\u001b[39m\n\u001b[32m     74\u001b[39m other = item_from_zerodim(other)\n\u001b[32m---> \u001b[39m\u001b[32m76\u001b[39m \u001b[38;5;28;01mreturn\u001b[39;00m \u001b[43mmethod\u001b[49m\u001b[43m(\u001b[49m\u001b[38;5;28;43mself\u001b[39;49m\u001b[43m,\u001b[49m\u001b[43m \u001b[49m\u001b[43mother\u001b[49m\u001b[43m)\u001b[49m\n",
      "\u001b[36mFile \u001b[39m\u001b[32m~/miniconda3/envs/tfg/lib/python3.11/site-packages/pandas/core/arraylike.py:40\u001b[39m, in \u001b[36mOpsMixin.__eq__\u001b[39m\u001b[34m(self, other)\u001b[39m\n\u001b[32m     38\u001b[39m \u001b[38;5;129m@unpack_zerodim_and_defer\u001b[39m(\u001b[33m\"\u001b[39m\u001b[33m__eq__\u001b[39m\u001b[33m\"\u001b[39m)\n\u001b[32m     39\u001b[39m \u001b[38;5;28;01mdef\u001b[39;00m\u001b[38;5;250m \u001b[39m\u001b[34m__eq__\u001b[39m(\u001b[38;5;28mself\u001b[39m, other):\n\u001b[32m---> \u001b[39m\u001b[32m40\u001b[39m     \u001b[38;5;28;01mreturn\u001b[39;00m \u001b[38;5;28;43mself\u001b[39;49m\u001b[43m.\u001b[49m\u001b[43m_cmp_method\u001b[49m\u001b[43m(\u001b[49m\u001b[43mother\u001b[49m\u001b[43m,\u001b[49m\u001b[43m \u001b[49m\u001b[43moperator\u001b[49m\u001b[43m.\u001b[49m\u001b[43meq\u001b[49m\u001b[43m)\u001b[49m\n",
      "\u001b[36mFile \u001b[39m\u001b[32m~/miniconda3/envs/tfg/lib/python3.11/site-packages/pandas/core/series.py:6119\u001b[39m, in \u001b[36mSeries._cmp_method\u001b[39m\u001b[34m(self, other, op)\u001b[39m\n\u001b[32m   6116\u001b[39m lvalues = \u001b[38;5;28mself\u001b[39m._values\n\u001b[32m   6117\u001b[39m rvalues = extract_array(other, extract_numpy=\u001b[38;5;28;01mTrue\u001b[39;00m, extract_range=\u001b[38;5;28;01mTrue\u001b[39;00m)\n\u001b[32m-> \u001b[39m\u001b[32m6119\u001b[39m res_values = \u001b[43mops\u001b[49m\u001b[43m.\u001b[49m\u001b[43mcomparison_op\u001b[49m\u001b[43m(\u001b[49m\u001b[43mlvalues\u001b[49m\u001b[43m,\u001b[49m\u001b[43m \u001b[49m\u001b[43mrvalues\u001b[49m\u001b[43m,\u001b[49m\u001b[43m \u001b[49m\u001b[43mop\u001b[49m\u001b[43m)\u001b[49m\n\u001b[32m   6121\u001b[39m \u001b[38;5;28;01mreturn\u001b[39;00m \u001b[38;5;28mself\u001b[39m._construct_result(res_values, name=res_name)\n",
      "\u001b[36mFile \u001b[39m\u001b[32m~/miniconda3/envs/tfg/lib/python3.11/site-packages/pandas/core/ops/array_ops.py:344\u001b[39m, in \u001b[36mcomparison_op\u001b[39m\u001b[34m(left, right, op)\u001b[39m\n\u001b[32m    341\u001b[39m     \u001b[38;5;28;01mreturn\u001b[39;00m invalid_comparison(lvalues, rvalues, op)\n\u001b[32m    343\u001b[39m \u001b[38;5;28;01melif\u001b[39;00m lvalues.dtype == \u001b[38;5;28mobject\u001b[39m \u001b[38;5;129;01mor\u001b[39;00m \u001b[38;5;28misinstance\u001b[39m(rvalues, \u001b[38;5;28mstr\u001b[39m):\n\u001b[32m--> \u001b[39m\u001b[32m344\u001b[39m     res_values = \u001b[43mcomp_method_OBJECT_ARRAY\u001b[49m\u001b[43m(\u001b[49m\u001b[43mop\u001b[49m\u001b[43m,\u001b[49m\u001b[43m \u001b[49m\u001b[43mlvalues\u001b[49m\u001b[43m,\u001b[49m\u001b[43m \u001b[49m\u001b[43mrvalues\u001b[49m\u001b[43m)\u001b[49m\n\u001b[32m    346\u001b[39m \u001b[38;5;28;01melse\u001b[39;00m:\n\u001b[32m    347\u001b[39m     res_values = _na_arithmetic_op(lvalues, rvalues, op, is_cmp=\u001b[38;5;28;01mTrue\u001b[39;00m)\n",
      "\u001b[36mFile \u001b[39m\u001b[32m~/miniconda3/envs/tfg/lib/python3.11/site-packages/pandas/core/ops/array_ops.py:129\u001b[39m, in \u001b[36mcomp_method_OBJECT_ARRAY\u001b[39m\u001b[34m(op, x, y)\u001b[39m\n\u001b[32m    127\u001b[39m     result = libops.vec_compare(x.ravel(), y.ravel(), op)\n\u001b[32m    128\u001b[39m \u001b[38;5;28;01melse\u001b[39;00m:\n\u001b[32m--> \u001b[39m\u001b[32m129\u001b[39m     result = \u001b[43mlibops\u001b[49m\u001b[43m.\u001b[49m\u001b[43mscalar_compare\u001b[49m\u001b[43m(\u001b[49m\u001b[43mx\u001b[49m\u001b[43m.\u001b[49m\u001b[43mravel\u001b[49m\u001b[43m(\u001b[49m\u001b[43m)\u001b[49m\u001b[43m,\u001b[49m\u001b[43m \u001b[49m\u001b[43my\u001b[49m\u001b[43m,\u001b[49m\u001b[43m \u001b[49m\u001b[43mop\u001b[49m\u001b[43m)\u001b[49m\n\u001b[32m    130\u001b[39m \u001b[38;5;28;01mreturn\u001b[39;00m result.reshape(x.shape)\n",
      "\u001b[31mKeyboardInterrupt\u001b[39m: "
     ]
    }
   ],
   "source": [
    "# Convertir config_2 en un objeto usando Box\n",
    "config_2 = Box({\n",
    "    \"dataset_name\": \"rsna-features_resnet18\",\n",
    "    \"num_epochs\": 50,\n",
    "    \"learning_rate\": 1e-4,\n",
    "    \"batch_size\": 1,\n",
    "    \"val_prop\": 0.2,\n",
    "    \"seed\": 42,\n",
    "    \"use_inst_distances\": False,\n",
    "    \"adj_mat_mode\": \"relative\"\n",
    "})\n",
    "\n",
    "# Ejecutar el experimento\n",
    "run_experiment(config_2)"
   ]
  }
 ],
 "metadata": {
  "kernelspec": {
   "display_name": "tfg",
   "language": "python",
   "name": "python3"
  },
  "language_info": {
   "codemirror_mode": {
    "name": "ipython",
    "version": 3
   },
   "file_extension": ".py",
   "mimetype": "text/x-python",
   "name": "python",
   "nbconvert_exporter": "python",
   "pygments_lexer": "ipython3",
   "version": "3.11.11"
  }
 },
 "nbformat": 4,
 "nbformat_minor": 2
}
