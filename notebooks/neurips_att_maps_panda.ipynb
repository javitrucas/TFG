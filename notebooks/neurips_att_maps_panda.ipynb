{
 "cells": [
  {
   "cell_type": "code",
   "execution_count": null,
   "metadata": {},
   "outputs": [],
   "source": [
    "import sys\n",
    "# setting path\n",
    "sys.path.append('../')"
   ]
  },
  {
   "cell_type": "code",
   "execution_count": null,
   "metadata": {},
   "outputs": [],
   "source": [
    "import matplotlib.pyplot as plt\n",
    "import os\n",
    "SAVE = True\n",
    "SAVE_PATH = '/work/work_fran/SmoothAttention/results/neurips_figures/panda_heatmaps/'\n",
    "FIGSIZE = (10,10)\n",
    "SAVE_EXTENSION = 'png'\n",
    "\n",
    "os.environ['PATH'] = os.environ['PATH'] + ':/home/fran/latex/bin/x86_64-linux/'\n",
    "plt.rcParams.update({\"text.usetex\": True, 'font.size': 20})"
   ]
  },
  {
   "cell_type": "code",
   "execution_count": null,
   "metadata": {},
   "outputs": [],
   "source": [
    "from datasets import PandaDataset\n",
    "\n",
    "SIZE = 512\n",
    "RESIZE_SIZE = 256\n",
    "DATA_DIR = f'/data/data_fran/Panda/patches_{SIZE}'\n",
    "\n",
    "data_path = f'/data/data_fran/Panda/patches_{SIZE}/raw/features_resnet18/'\n",
    "processed_data_path = f'/data/data_fran/Panda/patches_{SIZE}/processed/features_resnet18/'\n",
    "# csv_path = f'/data/data_fran/Panda/patches_{SIZE}/train_patches.csv'\n",
    "csv_path = f'/data/data_fran/Panda/patches_{SIZE}/test_patches.csv'\n",
    "\n",
    "dataset = PandaDataset(data_path=data_path, processed_data_path=processed_data_path, csv_path=csv_path, use_patch_distances=False)"
   ]
  },
  {
   "cell_type": "code",
   "execution_count": null,
   "metadata": {},
   "outputs": [],
   "source": [
    "bag_len_list = []\n",
    "for bag_name in dataset.bag_names:\n",
    "    bag_len_list.append(len(dataset.data_dict[bag_name]['inst_names']))"
   ]
  },
  {
   "cell_type": "code",
   "execution_count": null,
   "metadata": {},
   "outputs": [],
   "source": [
    "import numpy as np\n",
    "idx_bag_names_sorted = np.argsort(bag_len_list)"
   ]
  },
  {
   "cell_type": "code",
   "execution_count": null,
   "metadata": {},
   "outputs": [],
   "source": [
    "idx_pos_bags_sorted = []\n",
    "for idx in idx_bag_names_sorted:\n",
    "    if dataset.data_dict[dataset.bag_names[idx]]['bag_label'] == 1:\n",
    "        idx_pos_bags_sorted.append(idx)\n",
    "print(len(idx_pos_bags_sorted))"
   ]
  },
  {
   "cell_type": "code",
   "execution_count": null,
   "metadata": {},
   "outputs": [],
   "source": [
    "BAG_IDX = idx_pos_bags_sorted[1000]\n",
    "WSI_NAME = dataset.bag_names[BAG_IDX]\n",
    "WSI_LABEL = dataset.data_dict[WSI_NAME]['bag_label']\n",
    "PATCH_NAMES = dataset.data_dict[WSI_NAME]['inst_names']\n",
    "PATCH_LABELS = dataset.data_dict[WSI_NAME]['inst_labels']\n",
    "print(WSI_NAME)\n",
    "print(len(dataset.data_dict[WSI_NAME]['inst_names']))"
   ]
  },
  {
   "cell_type": "code",
   "execution_count": null,
   "metadata": {},
   "outputs": [],
   "source": [
    "import matplotlib.pyplot as plt\n",
    "import numpy as np\n",
    "import cv2\n",
    "from tqdm import tqdm\n",
    "\n",
    "\n",
    "patches_list = []\n",
    "row_list = []\n",
    "column_list = []\n",
    "pbar = tqdm(total=len(PATCH_NAMES))\n",
    "for patch_name in PATCH_NAMES:\n",
    "    pbar.update(1)\n",
    "    img = cv2.imread(f'{DATA_DIR}/images/' + patch_name + '.jpg')\n",
    "    # img = cv2.imread(f'{DATA_DIR}/images/' + patch_name + '.png')\n",
    "    if RESIZE_SIZE != SIZE:\n",
    "        img = cv2.resize(img, (RESIZE_SIZE, RESIZE_SIZE))\n",
    "    img = cv2.cvtColor(img, cv2.COLOR_BGR2RGB)\n",
    "    patches_list.append(img)\n",
    "    row = int(patch_name.split('_')[1])\n",
    "    column = int(patch_name.split('_')[2])\n",
    "    # print('NC:', df[df['image_name'] == image_name]['NC'].values[0])\n",
    "    # print('unlabeled:', df[df['image_name'] == image_name]['unlabeled'].values[0])\n",
    "    # print('label:', label)\n",
    "    row_list.append(row)\n",
    "    column_list.append(column)\n",
    "ROW_ARRAY = np.array(row_list)\n",
    "COL_ARRAY = np.array(column_list)\n",
    "min_row = np.min(ROW_ARRAY)\n",
    "min_column = np.min(COL_ARRAY)\n",
    "ROW_ARRAY = ROW_ARRAY - min_row + 1\n",
    "COL_ARRAY = COL_ARRAY - min_column + 1\n",
    "MAX_ROW = np.max(ROW_ARRAY)\n",
    "MAX_COL = np.max(COL_ARRAY)\n",
    "print(MAX_ROW, MAX_COL)"
   ]
  },
  {
   "cell_type": "code",
   "execution_count": null,
   "metadata": {},
   "outputs": [],
   "source": [
    "MAX_X = (MAX_COL+2) * RESIZE_SIZE\n",
    "MAX_Y = (MAX_ROW+2) * RESIZE_SIZE\n",
    "\n",
    "canvas_wsi = np.zeros((MAX_Y, MAX_X, 3), dtype=np.uint8)+255\n",
    "\n",
    "for i, patch in enumerate(patches_list):\n",
    "    row = ROW_ARRAY[i]\n",
    "    column = COL_ARRAY[i]\n",
    "    x = column * RESIZE_SIZE\n",
    "    y = row * RESIZE_SIZE\n",
    "    canvas_wsi[y:y+RESIZE_SIZE, x:x+RESIZE_SIZE] = patch\n",
    "    # canvas_attmap[y:y+RESIZE_SIZE, x:x+RESIZE_SIZE] = attmap[row-1, column-1]\n",
    "\n",
    "# canvas_wsi = canvas_wsi.transpose(1, 0, 2)\n",
    "# ROW_ARRAY, COL_ARRAY = COL_ARRAY, ROW_ARRAY"
   ]
  },
  {
   "cell_type": "code",
   "execution_count": null,
   "metadata": {},
   "outputs": [],
   "source": [
    "from plot_utils import plot_wsi_and_heatmap\n",
    "# fig, ax = plt.subplots(figsize=(10,10))\n",
    "fig, ax = plt.subplots(figsize=(10,10), nrows=2)\n",
    "ax[0] = plot_wsi_and_heatmap(ax[0], canvas_wsi, size=RESIZE_SIZE, plot_patch_contour=True, row_array=ROW_ARRAY, col_array=COL_ARRAY)\n",
    "ax[1] = plot_wsi_and_heatmap(ax[1], canvas_wsi, PATCH_LABELS, size=RESIZE_SIZE, plot_patch_contour=True, row_array=ROW_ARRAY, col_array=COL_ARRAY)\n",
    "plt.show()"
   ]
  },
  {
   "cell_type": "code",
   "execution_count": null,
   "metadata": {},
   "outputs": [],
   "source": [
    "X, T, y, edge_index = dataset[BAG_IDX]\n",
    "adj_mat = edge_index.to_dense().numpy()"
   ]
  },
  {
   "cell_type": "code",
   "execution_count": null,
   "metadata": {},
   "outputs": [],
   "source": [
    "\n",
    "changes = False\n",
    "\n",
    "old_patch_labels = PATCH_LABELS\n",
    "while True:\n",
    "\n",
    "    new_patch_labels = []\n",
    "    changes = False\n",
    "    for i in range(len(old_patch_labels)):\n",
    "        sum_pos = 0\n",
    "        sum_neg = 0\n",
    "        for j in range(len(old_patch_labels)):\n",
    "            if adj_mat[i, j] > 0:\n",
    "                if old_patch_labels[j] == 1:\n",
    "                    sum_pos += 1\n",
    "                else:\n",
    "                    sum_neg += 1\n",
    "         \n",
    "        if sum_pos > sum_neg:\n",
    "            new_label = 1\n",
    "        else:\n",
    "            new_label = 0\n",
    "        new_patch_labels.append(new_label)\n",
    "        if new_label != old_patch_labels[i]:\n",
    "            changes = True\n",
    "    \n",
    "    if not changes:\n",
    "        break\n",
    "    old_patch_labels = new_patch_labels\n",
    "\n",
    "print(\"finished\")\n",
    "\n",
    "\n",
    "from plot_utils import plot_wsi_and_heatmap\n",
    "# fig, ax = plt.subplots(figsize=(10,10))\n",
    "fig, ax = plt.subplots(figsize=(10,10), ncols=2)\n",
    "ax[0] = plot_wsi_and_heatmap(ax[0], canvas_wsi, size=RESIZE_SIZE, plot_patch_contour=True, row_array=ROW_ARRAY, col_array=COL_ARRAY)\n",
    "ax[1] = plot_wsi_and_heatmap(ax[1], canvas_wsi, new_patch_labels, size=RESIZE_SIZE, plot_patch_contour=True, row_array=ROW_ARRAY, col_array=COL_ARRAY)\n",
    "plt.show()"
   ]
  },
  {
   "cell_type": "code",
   "execution_count": null,
   "metadata": {},
   "outputs": [],
   "source": [
    "PATCH_LABELS = new_patch_labels"
   ]
  },
  {
   "cell_type": "code",
   "execution_count": null,
   "metadata": {},
   "outputs": [],
   "source": [
    "import matplotlib.cm as cm\n",
    "from matplotlib.colors import ListedColormap\n",
    "from mpl_toolkits.axes_grid1.inset_locator import inset_axes\n",
    "\n",
    "# save ground truth labels\n",
    "fig, ax = plt.subplots(figsize=(10,10))\n",
    "ax = plot_wsi_and_heatmap(ax, canvas_wsi, PATCH_LABELS, size=RESIZE_SIZE, plot_patch_contour=True, row_array=ROW_ARRAY, col_array=COL_ARRAY)\n",
    "\n",
    "N = 256\n",
    "vals = np.ones((N, 4))\n",
    "vals[:, 0] = np.linspace(0.17254901960784313, 0.8392156862745098, N)\n",
    "vals[:, 1] = np.linspace(0.6274509803921569, 0.15294117647058825, N)\n",
    "vals[:, 2] = np.linspace(0.17254901960784313, 0.1568627450980392, N)\n",
    "cmap = ListedColormap(vals)\n",
    "\n",
    "fig.tight_layout()\n",
    "\n",
    "cbaxes = inset_axes(ax, width=\"30%\", height=\"3%\", loc='upper right') \n",
    "fig.colorbar(\n",
    "    cm.ScalarMappable(norm=None, cmap=cmap), \n",
    "    cax=cbaxes, \n",
    "    orientation='horizontal',\n",
    "    ticks=[0,1]\n",
    ")\n",
    "plt.show()"
   ]
  },
  {
   "cell_type": "code",
   "execution_count": null,
   "metadata": {},
   "outputs": [],
   "source": [
    "import os\n",
    "os.environ[\"CUDA_DEVICE_ORDER\"]=\"PCI_BUS_ID\"\n",
    "os.environ[\"CUDA_VISIBLE_DEVICES\"]=\"0\"\n",
    "\n",
    "def normalize(x):\n",
    "    return (x - np.min(x)) / (np.max(x) - np.min(x))"
   ]
  },
  {
   "cell_type": "code",
   "execution_count": null,
   "metadata": {},
   "outputs": [],
   "source": [
    "run_path_dict = {\n",
    "    'attpool' : 'francastro-team/SmoothAttention/8qgpcvdl',\n",
    "    'smoothattpool' : 'francastro-team/SmoothAttention/5afwlfdq',\n",
    "    'smoothtransformer' : 'francastro-team/SmoothAttention/xadho6za',\n",
    "    'transmil' : 'francastro-team/SmoothAttention/aepg7pyr',\n",
    "    'gtp' : 'francastro-team/SmoothAttention/xmfuxcar',\n",
    "    'camil' : 'francastro-team/SmoothAttention/gok6nof2',\n",
    "    'dsmil' : 'francastro-team/SmoothAttention/0qirflr5',\n",
    "    'clam' : 'francastro-team/SmoothAttention/lfdkoqe2'\n",
    "}"
   ]
  },
  {
   "cell_type": "code",
   "execution_count": null,
   "metadata": {},
   "outputs": [],
   "source": [
    "import wandb\n",
    "import argparse\n",
    "from experiments.model_builder import build_MIL_model\n",
    "import torch\n",
    "\n",
    "X, T, y, edge_index = dataset[BAG_IDX]\n",
    "adj_mat = edge_index.to_dense()\n",
    "X = X.unsqueeze(0)\n",
    "T = T.unsqueeze(0)\n",
    "y = y.unsqueeze(0)\n",
    "adj_mat = adj_mat.unsqueeze(0)\n",
    "mask = torch.ones_like(y)\n",
    "\n",
    "f_pred_dict = {}\n",
    "attmap_dict = {}\n",
    "\n",
    "for model_name in run_path_dict.keys():\n",
    "    print(model_name)\n",
    "    run_path = run_path_dict[model_name]\n",
    "    api = wandb.Api()\n",
    "    run = api.run(run_path)\n",
    "    config = run.config\n",
    "    config = argparse.Namespace(**config)\n",
    "\n",
    "    model = build_MIL_model(config)\n",
    "    model = model.to('cpu')\n",
    "\n",
    "    weights = run.file('weights/best.pt').download(replace=True)\n",
    "\n",
    "    weights_dict = torch.load(weights.name)\n",
    "\n",
    "    model.load_state_dict(weights_dict)\n",
    "\n",
    "    T_logits_pred, f_pred = model.predict(X, adj_mat, mask, return_y_pred=True)\n",
    "    f_pred = f_pred.detach().cpu().squeeze(0).numpy()\n",
    "\n",
    "    f_pred_dict[model_name] = f_pred"
   ]
  },
  {
   "cell_type": "code",
   "execution_count": null,
   "metadata": {},
   "outputs": [],
   "source": [
    "fig, ax = plt.subplots(figsize=(10,10), ncols=len(run_path_dict.keys()))\n",
    "\n",
    "for i, model_name in enumerate(run_path_dict.keys()):\n",
    "    f_pred = f_pred_dict[model_name]\n",
    "    f_pred = normalize(f_pred)\n",
    "    ax[i] = plot_wsi_and_heatmap(ax[i], canvas_wsi, f_pred, size=RESIZE_SIZE, plot_patch_contour=True, row_array=ROW_ARRAY, col_array=COL_ARRAY)\n",
    "    ax[i].set_title(model_name)"
   ]
  },
  {
   "cell_type": "code",
   "execution_count": null,
   "metadata": {},
   "outputs": [],
   "source": [
    "fig, ax = plt.subplots(figsize=FIGSIZE)\n",
    "ax = plot_wsi_and_heatmap(ax, canvas_wsi.transpose(1, 0, 2), new_patch_labels, size=RESIZE_SIZE, plot_patch_contour=True, row_array=COL_ARRAY, col_array=ROW_ARRAY, alpha=0.3)\n",
    "if SAVE:\n",
    "    plt.savefig(f'{SAVE_PATH}/panda_wsi_patched_labels_alpha.png', bbox_inches='tight')\n",
    "plt.show()"
   ]
  },
  {
   "cell_type": "code",
   "execution_count": null,
   "metadata": {},
   "outputs": [],
   "source": [
    "fig, ax = plt.subplots(figsize=FIGSIZE)\n",
    "ax = plot_wsi_and_heatmap(ax, canvas_wsi, new_patch_labels, size=RESIZE_SIZE, plot_patch_contour=True, row_array=ROW_ARRAY, col_array=COL_ARRAY, alpha=0.8)\n",
    "if SAVE:\n",
    "    plt.savefig(f'{SAVE_PATH}/panda_wsi_patched_labels.png', bbox_inches='tight')\n",
    "plt.show()"
   ]
  },
  {
   "cell_type": "code",
   "execution_count": null,
   "metadata": {},
   "outputs": [],
   "source": [
    "import matplotlib.cm as cm\n",
    "from matplotlib.colors import ListedColormap\n",
    "from mpl_toolkits.axes_grid1.inset_locator import inset_axes\n",
    "\n",
    "\n",
    "if SAVE:\n",
    "\n",
    "    # save wsi image without patches\n",
    "    fig, ax = plt.subplots(figsize=FIGSIZE)\n",
    "    ax = plot_wsi_and_heatmap(ax, canvas_wsi, size=RESIZE_SIZE, plot_patch_contour=False, row_array=ROW_ARRAY, col_array=COL_ARRAY)\n",
    "    plt.savefig(f'{SAVE_PATH}/panda_wsi.{SAVE_EXTENSION}', bbox_inches='tight')\n",
    "\n",
    "    # save wsi image with patches\n",
    "    fig, ax = plt.subplots(figsize=FIGSIZE)\n",
    "    ax = plot_wsi_and_heatmap(ax, canvas_wsi, size=RESIZE_SIZE, plot_patch_contour=True, row_array=ROW_ARRAY, col_array=COL_ARRAY)\n",
    "    plt.savefig(f'{SAVE_PATH}/panda_wsi_patched.{SAVE_EXTENSION}', bbox_inches='tight')\n",
    "\n",
    "    # save ground truth labels\n",
    "    fig, ax = plt.subplots(figsize=FIGSIZE)\n",
    "    ax = plot_wsi_and_heatmap(ax, canvas_wsi, PATCH_LABELS, size=RESIZE_SIZE, plot_patch_contour=True, row_array=ROW_ARRAY, col_array=COL_ARRAY)\n",
    "    \n",
    "    N = 256\n",
    "    vals = np.ones((N, 4))\n",
    "    vals[:, 0] = np.linspace(0.17254901960784313, 0.8392156862745098, N)\n",
    "    vals[:, 1] = np.linspace(0.6274509803921569, 0.15294117647058825, N)\n",
    "    vals[:, 2] = np.linspace(0.17254901960784313, 0.1568627450980392, N)\n",
    "    cmap = ListedColormap(vals)\n",
    "\n",
    "    fig.tight_layout()\n",
    "\n",
    "    cbaxes = inset_axes(ax, width=\"30%\", height=\"3%\", loc='upper right') \n",
    "    fig.colorbar(\n",
    "        cm.ScalarMappable(norm=None, cmap=cmap), \n",
    "        cax=cbaxes, \n",
    "        orientation='horizontal',\n",
    "        ticks=[0,1]\n",
    "    )    \n",
    "    plt.savefig(f'{SAVE_PATH}/panda_wsi_patched_labels_bar.{SAVE_EXTENSION}', bbox_inches='tight')\n",
    "\n",
    "    # save model heatmaps\n",
    "    for i, model_name in enumerate(run_path_dict.keys()):\n",
    "        f_pred = f_pred_dict[model_name]\n",
    "        f_pred = normalize(f_pred)\n",
    "        fig, ax = plt.subplots(figsize=FIGSIZE)\n",
    "        ax = plot_wsi_and_heatmap(ax, canvas_wsi, f_pred, size=RESIZE_SIZE, plot_patch_contour=True, row_array=ROW_ARRAY, col_array=COL_ARRAY)\n",
    "        plt.savefig(f'{SAVE_PATH}/panda_wsi_patched_{model_name}.{SAVE_EXTENSION}', bbox_inches='tight')\n",
    "    "
   ]
  }
 ],
 "metadata": {
  "kernelspec": {
   "display_name": "SmoothAtt",
   "language": "python",
   "name": "python3"
  },
  "language_info": {
   "codemirror_mode": {
    "name": "ipython",
    "version": 3
   },
   "file_extension": ".py",
   "mimetype": "text/x-python",
   "name": "python",
   "nbconvert_exporter": "python",
   "pygments_lexer": "ipython3",
   "version": "3.9.18"
  }
 },
 "nbformat": 4,
 "nbformat_minor": 2
}
