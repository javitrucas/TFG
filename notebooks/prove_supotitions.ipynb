{
 "cells": [
  {
   "cell_type": "code",
   "execution_count": 1,
   "metadata": {},
   "outputs": [
    {
     "name": "stdout",
     "output_type": "stream",
     "text": [
      "/home/javitrucas/miniconda3/envs/tfg/bin/python\n"
     ]
    }
   ],
   "source": [
    "import sys\n",
    "print(sys.executable)"
   ]
  },
  {
   "cell_type": "code",
   "execution_count": 2,
   "metadata": {},
   "outputs": [],
   "source": [
    "import sys\n",
    "import os\n",
    "\n",
    "# Agregar el directorio raíz del proyecto a sys.path\n",
    "project_root = \"/home/javitrucas/TFG\"\n",
    "if project_root not in sys.path:\n",
    "    sys.path.append(project_root)"
   ]
  },
  {
   "cell_type": "code",
   "execution_count": 3,
   "metadata": {},
   "outputs": [
    {
     "name": "stderr",
     "output_type": "stream",
     "text": [
      "/home/javitrucas/miniconda3/envs/tfg/lib/python3.11/site-packages/torchvision/io/image.py:13: UserWarning: Failed to load image Python extension: '/home/javitrucas/miniconda3/envs/tfg/lib/python3.11/site-packages/torchvision/image.so: undefined symbol: _ZN3c1017RegisterOperatorsD1Ev'If you don't plan on using image functionality from `torchvision.io`, you can ignore this warning. Otherwise, there might be something wrong with your environment. Did you have `libjpeg` or `libpng` installed before building `torchvision` from source?\n",
      "  warn(\n"
     ]
    }
   ],
   "source": [
    "# Importaciones necesarias\n",
    "import os\n",
    "import torch\n",
    "import numpy as np\n",
    "import matplotlib.pyplot as plt\n",
    "from torch.utils.data import DataLoader\n",
    "from torch.nn.utils.rnn import pad_sequence\n",
    "\n",
    "# Agregar la ruta de los scripts al sistema\n",
    "import sys\n",
    "sys.path.append(os.path.abspath(\"../scripts\"))\n",
    "\n",
    "# Importar el modelo y las clases de datasets\n",
    "from scripts.model import MILModel\n",
    "from data.datasets.SCStandardMILDataset import SCStandardMILDataset\n",
    "from data.datasets.MCStandardMILDataset import MCStandardMILDataset\n",
    "from data.datasets.FalseFrequencyMILDataset import FalseFrequencyMILDataset"
   ]
  },
  {
   "cell_type": "code",
   "execution_count": 4,
   "metadata": {},
   "outputs": [],
   "source": [
    "# Configuración general\n",
    "DATA_DIR = \"../data/datasets\"  # Carpeta donde están los datasets\n",
    "DEVICE = torch.device(\"cuda\" if torch.cuda.is_available() else \"cpu\")\n",
    "BATCH_SIZE = 4\n",
    "NUM_EPOCHS = 10\n",
    "LEARNING_RATE = 0.001\n",
    "FEATURE_DIM = 128\n",
    "POOLING_TYPE = \"attention\"  # Opciones: 'attention', 'mean', 'max'\n",
    "\n",
    "# Parámetros específicos de los datasets\n",
    "D = 10  # Dimensionalidad de los datos\n",
    "NUM_BAGS = 100  # Número de bolsas\n",
    "B = 5  # Número de instancias negativas por bolsa\n",
    "POS_CLASS_PROB = 0.5  # Probabilidad de que una bolsa sea positiva\n",
    "SEED = 42  # Semilla para reproducibilidad"
   ]
  },
  {
   "cell_type": "code",
   "execution_count": 5,
   "metadata": {},
   "outputs": [],
   "source": [
    "# Crear instancias de los datasets\n",
    "sc_dataset = SCStandardMILDataset(\n",
    "    D=D,\n",
    "    num_bags=NUM_BAGS,\n",
    "    B=B,\n",
    "    pos_class_prob=POS_CLASS_PROB,\n",
    "    train=True,\n",
    "    seed=SEED\n",
    ")\n",
    "\n",
    "mc_dataset = MCStandardMILDataset(\n",
    "    D=D,\n",
    "    num_bags=NUM_BAGS,\n",
    "    B=B,\n",
    "    pos_class_prob=POS_CLASS_PROB,\n",
    "    train=True,\n",
    "    seed=SEED\n",
    ")\n",
    "\n",
    "false_freq_dataset = FalseFrequencyMILDataset(\n",
    "    D=D,\n",
    "    num_bags=NUM_BAGS,\n",
    "    B=B,\n",
    "    pos_class_prob=POS_CLASS_PROB,\n",
    "    train=True,\n",
    "    seed=SEED\n",
    ")\n",
    "\n",
    "# Crear dataloaders\n",
    "sc_loader = DataLoader(sc_dataset, batch_size=BATCH_SIZE, shuffle=True, collate_fn=sc_dataset.collate_fn)\n",
    "mc_loader = DataLoader(mc_dataset, batch_size=BATCH_SIZE, shuffle=True, collate_fn=mc_dataset.collate_fn)\n",
    "false_freq_loader = DataLoader(false_freq_dataset, batch_size=BATCH_SIZE, shuffle=True, collate_fn=false_freq_dataset.collate_fn)"
   ]
  },
  {
   "cell_type": "code",
   "execution_count": 6,
   "metadata": {},
   "outputs": [
    {
     "name": "stdout",
     "output_type": "stream",
     "text": [
      "=== SCStandard Dataset ===\n",
      "Bag Label: tensor(0)\n",
      "Instance Labels: tensor([-1.,  0.,  0.,  0.,  0.,  0.])\n"
     ]
    },
    {
     "data": {
      "image/png": "[encoded data removed]",
      "text/plain": [
       "<Figure size 1000x500 with 6 Axes>"
      ]
     },
     "metadata": {},
     "output_type": "display_data"
    },
    {
     "name": "stdout",
     "output_type": "stream",
     "text": [
      "=== MCStandard Dataset ===\n",
      "Bag Label: tensor(0)\n",
      "Instance Labels: tensor([ 0.,  0.,  0.,  0.,  0., -1., -2., -2., -2.])\n"
     ]
    },
    {
     "data": {
      "image/png": "[encoded data removed]",
      "text/plain": [
       "<Figure size 1000x500 with 9 Axes>"
      ]
     },
     "metadata": {},
     "output_type": "display_data"
    },
    {
     "name": "stdout",
     "output_type": "stream",
     "text": [
      "=== False Frequency Dataset ===\n",
      "Bag Label: tensor(0)\n",
      "Instance Labels: tensor([ 0.,  0.,  0.,  0.,  0., -1., -2., -2., -2., -2.])\n"
     ]
    },
    {
     "data": {
      "image/png": "[encoded data removed]",
      "text/plain": [
       "<Figure size 1000x500 with 10 Axes>"
      ]
     },
     "metadata": {},
     "output_type": "display_data"
    }
   ],
   "source": [
    "def visualize_bag(bag_data, bag_label, instance_labels):\n",
    "    \"\"\"\n",
    "    Visualiza una bolsa de instancias junto con sus etiquetas.\n",
    "    \"\"\"\n",
    "    print(\"Bag Label:\", bag_label)\n",
    "    print(\"Instance Labels:\", instance_labels)\n",
    "    plt.figure(figsize=(10, 5))\n",
    "    for i, instance in enumerate(bag_data):\n",
    "        plt.subplot(1, len(bag_data), i + 1)\n",
    "        plt.title(f\"Inst {i} (Label: {instance_labels[i].item():.0f})\")\n",
    "        plt.imshow(instance.numpy().reshape(2, -1), cmap=\"viridis\")\n",
    "        plt.axis(\"off\")\n",
    "    plt.show()\n",
    "\n",
    "# Visualizar un ejemplo de cada dataset\n",
    "print(\"=== SCStandard Dataset ===\")\n",
    "for bag_data, bag_label, instance_labels, adj_mat, mask in sc_loader:\n",
    "    visualize_bag(bag_data[0], bag_label[0], instance_labels[0])\n",
    "    break\n",
    "\n",
    "print(\"=== MCStandard Dataset ===\")\n",
    "for bag_data, bag_label, instance_labels, adj_mat, mask in mc_loader:\n",
    "    visualize_bag(bag_data[0], bag_label[0], instance_labels[0])\n",
    "    break\n",
    "\n",
    "print(\"=== False Frequency Dataset ===\")\n",
    "for bag_data, bag_label, instance_labels, adj_mat, mask in false_freq_loader:\n",
    "    visualize_bag(bag_data[0], bag_label[0], instance_labels[0])\n",
    "    break"
   ]
  },
  {
   "cell_type": "code",
   "execution_count": 25,
   "metadata": {},
   "outputs": [],
   "source": [
    "# Configuración para SCStandard\n",
    "D = 10  # ¡Ajusta esto según el dataset!\n",
    "FEATURE_DIM = 64  # Ejemplo: reduce a 64 para SCStandard\n",
    "POOLING_TYPE = \"attention\"\n",
    "\n",
    "# Instanciar el modelo con las dimensiones correctas\n",
    "model = MILModel(\n",
    "    input_feature_dim=D,  # Usa D=10 para SCStandard\n",
    "    feature_dim=FEATURE_DIM,\n",
    "    pooling_type=POOLING_TYPE,\n",
    "    dropout_prob=0.5\n",
    ").to(DEVICE)\n",
    "\n",
    "# Función de pérdida y optimizador\n",
    "criterion = torch.nn.BCEWithLogitsLoss()\n",
    "optimizer = torch.optim.Adam(model.parameters(), lr=LEARNING_RATE)"
   ]
  },
  {
   "cell_type": "code",
   "execution_count": 23,
   "metadata": {},
   "outputs": [
    {
     "name": "stdout",
     "output_type": "stream",
     "text": [
      "=== Entrenando en SCStandard Dataset ===\n",
      "Epoch 1/10, Loss: 14.6413\n",
      "Epoch 2/10, Loss: 8.5852\n",
      "Epoch 3/10, Loss: 6.8120\n",
      "Epoch 4/10, Loss: 5.6587\n",
      "Epoch 5/10, Loss: 4.3648\n",
      "Epoch 6/10, Loss: 3.7810\n",
      "Epoch 7/10, Loss: 3.4033\n",
      "Epoch 8/10, Loss: 2.8577\n",
      "Epoch 9/10, Loss: 2.2762\n",
      "Epoch 10/10, Loss: 2.1233\n"
     ]
    }
   ],
   "source": [
    "def train_model(loader, model, criterion, optimizer, epochs=NUM_EPOCHS):\n",
    "    model.train()\n",
    "    for epoch in range(epochs):\n",
    "        total_loss = 0\n",
    "        for bag_data, bag_label, instance_labels, adj_mat, mask in loader:\n",
    "            bag_data, bag_label = bag_data.to(DEVICE), bag_label.float().to(DEVICE)\n",
    "            mask = mask.to(DEVICE) if mask is not None else None\n",
    "\n",
    "            optimizer.zero_grad()\n",
    "            predictions, _ = model(bag_data, mask=mask)\n",
    "            loss = criterion(predictions.squeeze(), bag_label)\n",
    "            loss.backward()\n",
    "            optimizer.step()\n",
    "\n",
    "            total_loss += loss.item()\n",
    "        print(f\"Epoch {epoch+1}/{epochs}, Loss: {total_loss:.4f}\")\n",
    "\n",
    "# Entrenar el modelo en el SCStandard Dataset\n",
    "print(\"=== Entrenando en SCStandard Dataset ===\")\n",
    "train_model(sc_loader, model, criterion, optimizer)"
   ]
  },
  {
   "cell_type": "code",
   "execution_count": 24,
   "metadata": {},
   "outputs": [
    {
     "name": "stdout",
     "output_type": "stream",
     "text": [
      "=== Evaluando en SCStandard Dataset ===\n",
      "Accuracy: 1.0000\n"
     ]
    }
   ],
   "source": [
    "def evaluate_model(loader, model):\n",
    "    model.eval()\n",
    "    correct = 0\n",
    "    total = 0\n",
    "    with torch.no_grad():\n",
    "        for bag_data, bag_label, instance_labels, adj_mat, mask in loader:\n",
    "            bag_data, bag_label = bag_data.to(DEVICE), bag_label.float().to(DEVICE)\n",
    "            mask = mask.to(DEVICE) if mask is not None else None\n",
    "\n",
    "            predictions, _ = model(bag_data, mask=mask)\n",
    "            predicted_labels = (torch.sigmoid(predictions) > 0.5).float().squeeze()\n",
    "            correct += (predicted_labels == bag_label).sum().item()\n",
    "            total += bag_label.size(0)\n",
    "    accuracy = correct / total\n",
    "    print(f\"Accuracy: {accuracy:.4f}\")\n",
    "\n",
    "# Evaluar el modelo en el SCStandard Dataset\n",
    "print(\"=== Evaluando en SCStandard Dataset ===\")\n",
    "evaluate_model(sc_loader, model)"
   ]
  },
  {
   "cell_type": "code",
   "execution_count": null,
   "metadata": {},
   "outputs": [],
   "source": [
    "# Repetir el proceso para otros datasets\n",
    "print(\"=== Entrenando en MCStandard Dataset ===\")\n",
    "train_model(mc_loader, model, criterion, optimizer)\n",
    "\n",
    "print(\"=== Evaluando en MCStandard Dataset ===\")\n",
    "evaluate_model(mc_loader, model)\n",
    "\n",
    "print(\"=== Entrenando en False Frequency Dataset ===\")\n",
    "train_model(false_freq_loader, model, criterion, optimizer)\n",
    "\n",
    "print(\"=== Evaluando en False Frequency Dataset ===\")\n",
    "evaluate_model(false_freq_loader, model)"
   ]
  }
 ],
 "metadata": {
  "kernelspec": {
   "display_name": "tfg",
   "language": "python",
   "name": "python3"
  },
  "language_info": {
   "codemirror_mode": {
    "name": "ipython",
    "version": 3
   },
   "file_extension": ".py",
   "mimetype": "text/x-python",
   "name": "python",
   "nbconvert_exporter": "python",
   "pygments_lexer": "ipython3",
   "version": "3.11.11"
  }
 },
 "nbformat": 4,
 "nbformat_minor": 2
}
