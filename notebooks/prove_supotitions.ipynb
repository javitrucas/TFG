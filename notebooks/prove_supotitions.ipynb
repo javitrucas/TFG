{
 "cells": [
  {
   "cell_type": "code",
   "execution_count": 1,
   "metadata": {},
   "outputs": [
    {
     "name": "stdout",
     "output_type": "stream",
     "text": [
      "/home/javitrucas/miniconda3/envs/tfg/bin/python\n"
     ]
    }
   ],
   "source": [
    "import sys\n",
    "print(sys.executable)\n",
    "import os\n",
    "\n",
    "# Agregar el directorio raíz del proyecto a sys.path\n",
    "project_root = \"/home/javitrucas/TFG\"\n",
    "if project_root not in sys.path:\n",
    "    sys.path.append(project_root)"
   ]
  },
  {
   "cell_type": "code",
   "execution_count": 2,
   "metadata": {},
   "outputs": [
    {
     "name": "stderr",
     "output_type": "stream",
     "text": [
      "/home/javitrucas/miniconda3/envs/tfg/lib/python3.11/site-packages/torchvision/io/image.py:13: UserWarning: Failed to load image Python extension: '/home/javitrucas/miniconda3/envs/tfg/lib/python3.11/site-packages/torchvision/image.so: undefined symbol: _ZN3c1017RegisterOperatorsD1Ev'If you don't plan on using image functionality from `torchvision.io`, you can ignore this warning. Otherwise, there might be something wrong with your environment. Did you have `libjpeg` or `libpng` installed before building `torchvision` from source?\n",
      "  warn(\n"
     ]
    }
   ],
   "source": [
    "# Importaciones necesarias\n",
    "import os\n",
    "import torch\n",
    "import numpy as np\n",
    "import matplotlib.pyplot as plt\n",
    "from torch.utils.data import DataLoader\n",
    "from torch.nn.utils.rnn import pad_sequence\n",
    "from sklearn.metrics import roc_auc_score, f1_score, confusion_matrix\n",
    "\n",
    "# Agregar la ruta de los scripts al sistema\n",
    "sys.path.append(os.path.abspath(\"../scripts\"))\n",
    "\n",
    "# Importar el modelo y las clases de datasets\n",
    "from scripts.model import MILModel\n",
    "from data.datasets.SCStandardMILDataset import SCStandardMILDataset\n",
    "from data.datasets.MCStandardMILDataset import MCStandardMILDataset\n",
    "from data.datasets.FalseFrequencyMILDataset import FalseFrequencyMILDataset"
   ]
  },
  {
   "cell_type": "code",
   "execution_count": 8,
   "metadata": {},
   "outputs": [],
   "source": [
    "# Configuración general\n",
    "DATA_DIR = \"../data/datasets\"  # Carpeta donde están los datasets\n",
    "DEVICE = torch.device(\"cuda\" if torch.cuda.is_available() else \"cpu\")\n",
    "BATCH_SIZE = 1\n",
    "NUM_EPOCHS = 10\n",
    "LEARNING_RATE = 0.001\n",
    "FEATURE_DIM = 128\n",
    "POOLING_TYPE = \"max\"  # Opciones: 'attention', 'mean', 'max'\n",
    "FEATURE_DIM = 128 \n",
    "\n",
    "# Parámetros específicos de los datasets\n",
    "D = 2  # Dimensionalidad de los datos\n",
    "NUM_BAGS = 100  # Número de bolsas\n",
    "B = 5  # Número de instancias negativas por bolsa\n",
    "POS_CLASS_PROB = 0.5  # Probabilidad de que una bolsa sea positiva\n",
    "SEED = 42  # Semilla para reproducibilidad"
   ]
  },
  {
   "cell_type": "code",
   "execution_count": 9,
   "metadata": {},
   "outputs": [],
   "source": [
    "# Crear instancias de los datasets\n",
    "sc_dataset = SCStandardMILDataset(\n",
    "    D=D,\n",
    "    num_bags=NUM_BAGS,\n",
    "    B=B,\n",
    "    pos_class_prob=POS_CLASS_PROB,\n",
    "    train=True,\n",
    "    seed=SEED\n",
    ")\n",
    "\n",
    "mc_dataset = MCStandardMILDataset(\n",
    "    D=D,\n",
    "    num_bags=NUM_BAGS,\n",
    "    B=B,\n",
    "    pos_class_prob=POS_CLASS_PROB,\n",
    "    train=True,\n",
    "    seed=SEED\n",
    ")\n",
    "\n",
    "false_freq_dataset = FalseFrequencyMILDataset(\n",
    "    D=D,\n",
    "    num_bags=NUM_BAGS,\n",
    "    B=B,\n",
    "    pos_class_prob=POS_CLASS_PROB,\n",
    "    train=True,\n",
    "    seed=SEED\n",
    ")\n",
    "\n",
    "# Crear dataloaders\n",
    "sc_loader = DataLoader(sc_dataset, batch_size=BATCH_SIZE, shuffle=True, collate_fn=sc_dataset.collate_fn)\n",
    "mc_loader = DataLoader(mc_dataset, batch_size=BATCH_SIZE, shuffle=True, collate_fn=mc_dataset.collate_fn)\n",
    "false_freq_loader = DataLoader(false_freq_dataset, batch_size=BATCH_SIZE, shuffle=True)"
   ]
  },
  {
   "cell_type": "code",
   "execution_count": 10,
   "metadata": {},
   "outputs": [],
   "source": [
    "def train_model(loader, model, criterion, optimizer, epochs=NUM_EPOCHS):\n",
    "    model.train()\n",
    "    for epoch in range(epochs):\n",
    "        total_loss = 0\n",
    "        for bag_data, bag_label, instance_labels, adj_mat, mask in loader:\n",
    "            bag_data, bag_label = bag_data.to(DEVICE), bag_label.float().to(DEVICE)\n",
    "            mask = mask.to(DEVICE) if mask is not None else None\n",
    "\n",
    "            optimizer.zero_grad()\n",
    "            predictions, _ = model(bag_data, mask=mask)\n",
    "            loss = criterion(predictions.squeeze(), bag_label)\n",
    "            loss.backward()\n",
    "            optimizer.step()\n",
    "\n",
    "            total_loss += loss.item()\n",
    "        print(f\"Epoch {epoch+1}/{epochs}, Loss: {total_loss:.4f}\")"
   ]
  },
  {
   "cell_type": "code",
   "execution_count": null,
   "metadata": {},
   "outputs": [],
   "source": [
    "def evaluate_model(loader, model):\n",
    "    model.eval()\n",
    "    all_labels = []\n",
    "    all_preds = []\n",
    "    with torch.no_grad():\n",
    "        for bag_data, bag_label, _, _, mask in loader:\n",
    "            bag_data = bag_data.to(DEVICE)\n",
    "            mask = mask.to(DEVICE) if mask is not None else None\n",
    "            output, _ = model(bag_data, mask=mask)\n",
    "            preds = (torch.sigmoid(output) > 0.5).float().squeeze().cpu().numpy()\n",
    "            all_preds.extend(preds)\n",
    "            all_labels.extend(bag_label.cpu().numpy())\n",
    "    \n",
    "    # Calcular métricas\n",
    "    accuracy = np.mean(np.array(all_preds) == np.array(all_labels))\n",
    "    auc = roc_auc_score(all_labels, all_preds)\n",
    "    f1 = f1_score(all_labels, all_preds)\n",
    "    cm = confusion_matrix(all_labels, all_preds)\n",
    "    \n",
    "    print(f\"Accuracy: {accuracy:.4f}, AUC: {auc:.4f}, F1-Score: {f1:.4f}\")\n",
    "    print(\"Confusion Matrix:\")\n",
    "    print(cm)"
   ]
  },
  {
   "cell_type": "code",
   "execution_count": 12,
   "metadata": {},
   "outputs": [
    {
     "name": "stdout",
     "output_type": "stream",
     "text": [
      "=== Entrenando en SCStandard Dataset ===\n"
     ]
    },
    {
     "ename": "ValueError",
     "evalue": "Target size (torch.Size([1])) must be the same as input size (torch.Size([]))",
     "output_type": "error",
     "traceback": [
      "\u001b[31m---------------------------------------------------------------------------\u001b[39m",
      "\u001b[31mValueError\u001b[39m                                Traceback (most recent call last)",
      "\u001b[36mCell\u001b[39m\u001b[36m \u001b[39m\u001b[32mIn[12]\u001b[39m\u001b[32m, line 7\u001b[39m\n\u001b[32m      5\u001b[39m model = MILModel(input_feature_dim=D, pooling_type=POOLING_TYPE).to(DEVICE)\n\u001b[32m      6\u001b[39m optimizer = torch.optim.Adam(model.parameters(), lr=LEARNING_RATE)\n\u001b[32m----> \u001b[39m\u001b[32m7\u001b[39m \u001b[43mtrain_model\u001b[49m\u001b[43m(\u001b[49m\u001b[43msc_loader\u001b[49m\u001b[43m,\u001b[49m\u001b[43m \u001b[49m\u001b[43mmodel\u001b[49m\u001b[43m,\u001b[49m\u001b[43m \u001b[49m\u001b[43mcriterion\u001b[49m\u001b[43m,\u001b[49m\u001b[43m \u001b[49m\u001b[43moptimizer\u001b[49m\u001b[43m)\u001b[49m\n\u001b[32m      9\u001b[39m \u001b[38;5;28mprint\u001b[39m(\u001b[33m\"\u001b[39m\u001b[33m=== Evaluando en SCStandard Dataset ===\u001b[39m\u001b[33m\"\u001b[39m)\n\u001b[32m     10\u001b[39m evaluate_model(sc_loader, model)\n",
      "\u001b[36mCell\u001b[39m\u001b[36m \u001b[39m\u001b[32mIn[10]\u001b[39m\u001b[32m, line 11\u001b[39m, in \u001b[36mtrain_model\u001b[39m\u001b[34m(loader, model, criterion, optimizer, epochs)\u001b[39m\n\u001b[32m      9\u001b[39m optimizer.zero_grad()\n\u001b[32m     10\u001b[39m predictions, _ = model(bag_data, mask=mask)\n\u001b[32m---> \u001b[39m\u001b[32m11\u001b[39m loss = \u001b[43mcriterion\u001b[49m\u001b[43m(\u001b[49m\u001b[43mpredictions\u001b[49m\u001b[43m.\u001b[49m\u001b[43msqueeze\u001b[49m\u001b[43m(\u001b[49m\u001b[43m)\u001b[49m\u001b[43m,\u001b[49m\u001b[43m \u001b[49m\u001b[43mbag_label\u001b[49m\u001b[43m)\u001b[49m\n\u001b[32m     12\u001b[39m loss.backward()\n\u001b[32m     13\u001b[39m optimizer.step()\n",
      "\u001b[36mFile \u001b[39m\u001b[32m~/miniconda3/envs/tfg/lib/python3.11/site-packages/torch/nn/modules/module.py:1736\u001b[39m, in \u001b[36mModule._wrapped_call_impl\u001b[39m\u001b[34m(self, *args, **kwargs)\u001b[39m\n\u001b[32m   1734\u001b[39m     \u001b[38;5;28;01mreturn\u001b[39;00m \u001b[38;5;28mself\u001b[39m._compiled_call_impl(*args, **kwargs)  \u001b[38;5;66;03m# type: ignore[misc]\u001b[39;00m\n\u001b[32m   1735\u001b[39m \u001b[38;5;28;01melse\u001b[39;00m:\n\u001b[32m-> \u001b[39m\u001b[32m1736\u001b[39m     \u001b[38;5;28;01mreturn\u001b[39;00m \u001b[38;5;28;43mself\u001b[39;49m\u001b[43m.\u001b[49m\u001b[43m_call_impl\u001b[49m\u001b[43m(\u001b[49m\u001b[43m*\u001b[49m\u001b[43margs\u001b[49m\u001b[43m,\u001b[49m\u001b[43m \u001b[49m\u001b[43m*\u001b[49m\u001b[43m*\u001b[49m\u001b[43mkwargs\u001b[49m\u001b[43m)\u001b[49m\n",
      "\u001b[36mFile \u001b[39m\u001b[32m~/miniconda3/envs/tfg/lib/python3.11/site-packages/torch/nn/modules/module.py:1747\u001b[39m, in \u001b[36mModule._call_impl\u001b[39m\u001b[34m(self, *args, **kwargs)\u001b[39m\n\u001b[32m   1742\u001b[39m \u001b[38;5;66;03m# If we don't have any hooks, we want to skip the rest of the logic in\u001b[39;00m\n\u001b[32m   1743\u001b[39m \u001b[38;5;66;03m# this function, and just call forward.\u001b[39;00m\n\u001b[32m   1744\u001b[39m \u001b[38;5;28;01mif\u001b[39;00m \u001b[38;5;129;01mnot\u001b[39;00m (\u001b[38;5;28mself\u001b[39m._backward_hooks \u001b[38;5;129;01mor\u001b[39;00m \u001b[38;5;28mself\u001b[39m._backward_pre_hooks \u001b[38;5;129;01mor\u001b[39;00m \u001b[38;5;28mself\u001b[39m._forward_hooks \u001b[38;5;129;01mor\u001b[39;00m \u001b[38;5;28mself\u001b[39m._forward_pre_hooks\n\u001b[32m   1745\u001b[39m         \u001b[38;5;129;01mor\u001b[39;00m _global_backward_pre_hooks \u001b[38;5;129;01mor\u001b[39;00m _global_backward_hooks\n\u001b[32m   1746\u001b[39m         \u001b[38;5;129;01mor\u001b[39;00m _global_forward_hooks \u001b[38;5;129;01mor\u001b[39;00m _global_forward_pre_hooks):\n\u001b[32m-> \u001b[39m\u001b[32m1747\u001b[39m     \u001b[38;5;28;01mreturn\u001b[39;00m \u001b[43mforward_call\u001b[49m\u001b[43m(\u001b[49m\u001b[43m*\u001b[49m\u001b[43margs\u001b[49m\u001b[43m,\u001b[49m\u001b[43m \u001b[49m\u001b[43m*\u001b[49m\u001b[43m*\u001b[49m\u001b[43mkwargs\u001b[49m\u001b[43m)\u001b[49m\n\u001b[32m   1749\u001b[39m result = \u001b[38;5;28;01mNone\u001b[39;00m\n\u001b[32m   1750\u001b[39m called_always_called_hooks = \u001b[38;5;28mset\u001b[39m()\n",
      "\u001b[36mFile \u001b[39m\u001b[32m~/miniconda3/envs/tfg/lib/python3.11/site-packages/torch/nn/modules/loss.py:819\u001b[39m, in \u001b[36mBCEWithLogitsLoss.forward\u001b[39m\u001b[34m(self, input, target)\u001b[39m\n\u001b[32m    818\u001b[39m \u001b[38;5;28;01mdef\u001b[39;00m\u001b[38;5;250m \u001b[39m\u001b[34mforward\u001b[39m(\u001b[38;5;28mself\u001b[39m, \u001b[38;5;28minput\u001b[39m: Tensor, target: Tensor) -> Tensor:\n\u001b[32m--> \u001b[39m\u001b[32m819\u001b[39m     \u001b[38;5;28;01mreturn\u001b[39;00m \u001b[43mF\u001b[49m\u001b[43m.\u001b[49m\u001b[43mbinary_cross_entropy_with_logits\u001b[49m\u001b[43m(\u001b[49m\n\u001b[32m    820\u001b[39m \u001b[43m        \u001b[49m\u001b[38;5;28;43minput\u001b[39;49m\u001b[43m,\u001b[49m\n\u001b[32m    821\u001b[39m \u001b[43m        \u001b[49m\u001b[43mtarget\u001b[49m\u001b[43m,\u001b[49m\n\u001b[32m    822\u001b[39m \u001b[43m        \u001b[49m\u001b[38;5;28;43mself\u001b[39;49m\u001b[43m.\u001b[49m\u001b[43mweight\u001b[49m\u001b[43m,\u001b[49m\n\u001b[32m    823\u001b[39m \u001b[43m        \u001b[49m\u001b[43mpos_weight\u001b[49m\u001b[43m=\u001b[49m\u001b[38;5;28;43mself\u001b[39;49m\u001b[43m.\u001b[49m\u001b[43mpos_weight\u001b[49m\u001b[43m,\u001b[49m\n\u001b[32m    824\u001b[39m \u001b[43m        \u001b[49m\u001b[43mreduction\u001b[49m\u001b[43m=\u001b[49m\u001b[38;5;28;43mself\u001b[39;49m\u001b[43m.\u001b[49m\u001b[43mreduction\u001b[49m\u001b[43m,\u001b[49m\n\u001b[32m    825\u001b[39m \u001b[43m    \u001b[49m\u001b[43m)\u001b[49m\n",
      "\u001b[36mFile \u001b[39m\u001b[32m~/miniconda3/envs/tfg/lib/python3.11/site-packages/torch/nn/functional.py:3624\u001b[39m, in \u001b[36mbinary_cross_entropy_with_logits\u001b[39m\u001b[34m(input, target, weight, size_average, reduce, reduction, pos_weight)\u001b[39m\n\u001b[32m   3621\u001b[39m     reduction_enum = _Reduction.get_enum(reduction)\n\u001b[32m   3623\u001b[39m \u001b[38;5;28;01mif\u001b[39;00m \u001b[38;5;129;01mnot\u001b[39;00m (target.size() == \u001b[38;5;28minput\u001b[39m.size()):\n\u001b[32m-> \u001b[39m\u001b[32m3624\u001b[39m     \u001b[38;5;28;01mraise\u001b[39;00m \u001b[38;5;167;01mValueError\u001b[39;00m(\n\u001b[32m   3625\u001b[39m         \u001b[33mf\u001b[39m\u001b[33m\"\u001b[39m\u001b[33mTarget size (\u001b[39m\u001b[38;5;132;01m{\u001b[39;00mtarget.size()\u001b[38;5;132;01m}\u001b[39;00m\u001b[33m) must be the same as input size (\u001b[39m\u001b[38;5;132;01m{\u001b[39;00m\u001b[38;5;28minput\u001b[39m.size()\u001b[38;5;132;01m}\u001b[39;00m\u001b[33m)\u001b[39m\u001b[33m\"\u001b[39m\n\u001b[32m   3626\u001b[39m     )\n\u001b[32m   3628\u001b[39m \u001b[38;5;28;01mreturn\u001b[39;00m torch.binary_cross_entropy_with_logits(\n\u001b[32m   3629\u001b[39m     \u001b[38;5;28minput\u001b[39m, target, weight, pos_weight, reduction_enum\n\u001b[32m   3630\u001b[39m )\n",
      "\u001b[31mValueError\u001b[39m: Target size (torch.Size([1])) must be the same as input size (torch.Size([]))"
     ]
    }
   ],
   "source": [
    "criterion = torch.nn.BCEWithLogitsLoss()\n",
    "\n",
    "# Ejemplo para SCStandard\n",
    "print(\"=== Entrenando en SCStandard Dataset ===\")\n",
    "model = MILModel(input_feature_dim=D, pooling_type=POOLING_TYPE).to(DEVICE)\n",
    "optimizer = torch.optim.Adam(model.parameters(), lr=LEARNING_RATE)\n",
    "train_model(sc_loader, model, criterion, optimizer)\n",
    "\n",
    "print(\"=== Evaluando en SCStandard Dataset ===\")\n",
    "evaluate_model(sc_loader, model)\n",
    "\n",
    "# Reiniciar para MCStandard\n",
    "print(\"=== Entrenando en MCStandard Dataset ===\")\n",
    "model = MILModel(input_feature_dim=D, feature_dim=FEATURE_DIM, pooling_type=POOLING_TYPE).to(DEVICE)\n",
    "optimizer = torch.optim.Adam(model.parameters(), lr=LEARNING_RATE)\n",
    "train_model(mc_loader, model, criterion, optimizer)\n",
    "\n",
    "print(\"=== Evaluando en MCStandard Dataset ===\")\n",
    "evaluate_model(mc_loader, model)\n",
    "\n",
    "# Reiniciar para False Frequency\n",
    "print(\"=== Entrenando en False Frequency Dataset ===\")\n",
    "model = MILModel(input_feature_dim=D, feature_dim=FEATURE_DIM, pooling_type=POOLING_TYPE).to(DEVICE)\n",
    "optimizer = torch.optim.Adam(model.parameters(), lr=LEARNING_RATE)\n",
    "train_model(false_freq_loader, model, criterion, optimizer)\n",
    "\n",
    "\n",
    "print(\"=== Evaluando en False Frequency Dataset ===\")\n",
    "evaluate_model(false_freq_loader, model)"
   ]
  },
  {
   "cell_type": "markdown",
   "metadata": {},
   "source": [
    "probar de nuevo"
   ]
  },
  {
   "cell_type": "code",
   "execution_count": 32,
   "metadata": {},
   "outputs": [
    {
     "name": "stdout",
     "output_type": "stream",
     "text": [
      "Label de la bolsa: 0\n",
      "Etiquetas de instancia: [-1.  0.  0.  0.  0.  0.]\n"
     ]
    },
    {
     "data": {
      "image/png": "[encoded data removed]",
      "text/plain": [
       "<Figure size 800x600 with 1 Axes>"
      ]
     },
     "metadata": {},
     "output_type": "display_data"
    },
    {
     "name": "stdout",
     "output_type": "stream",
     "text": [
      "✅ Suposición MIL validada correctamente.\n"
     ]
    }
   ],
   "source": [
    "\n",
    "# Configuración\n",
    "D = 2          # Dimensionalidad de las instancias (2D para visualización)\n",
    "NUM_BAGS = 100  # Número de bolsas\n",
    "B = 5          # Instancias negativas por bolsa\n",
    "BATCH_SIZE = 1\n",
    "\n",
    "# Crear dataset\n",
    "sc_dataset = SCStandardMILDataset(\n",
    "    D=D,\n",
    "    num_bags=NUM_BAGS,\n",
    "    B=B,\n",
    "    pos_class_prob=0.5,\n",
    "    train=True,\n",
    "    seed=42\n",
    ")\n",
    "\n",
    "# Crear DataLoader\n",
    "sc_loader = DataLoader(\n",
    "    sc_dataset,\n",
    "    batch_size=BATCH_SIZE,\n",
    "    shuffle=True,\n",
    "    collate_fn=sc_dataset.collate_fn\n",
    ")\n",
    "\n",
    "# Visualizar una bolsa\n",
    "def visualize_bag(bag_data, bag_label, instance_labels):\n",
    "    plt.figure(figsize=(8, 6))\n",
    "    colors = ['red' if label == 1 else 'blue' for label in instance_labels]\n",
    "    plt.scatter(bag_data[:, 0], bag_data[:, 1], c=colors, s=100)\n",
    "    plt.title(f\"Bolsa {'POSITIVA' if bag_label else 'NEGATIVA'}\", fontsize=14)\n",
    "    plt.xlabel(\"Feature 1\", fontsize=12)\n",
    "    plt.ylabel(\"Feature 2\", fontsize=12)\n",
    "    plt.grid(True)\n",
    "    plt.show()\n",
    "\n",
    "# Ejemplo de visualización\n",
    "for bag_data, bag_label, instance_labels, adj_mat, mask in sc_loader:\n",
    "    print(\"Label de la bolsa:\", bag_label[0].item())\n",
    "    print(\"Etiquetas de instancia:\", instance_labels[0].numpy())\n",
    "    visualize_bag(bag_data[0], bag_label[0], instance_labels[0])\n",
    "    break\n",
    "\n",
    "# Verificar suposición MIL\n",
    "def check_mil_assumption(dataset):\n",
    "    for bag in dataset.bags_list:\n",
    "        X = bag['X']\n",
    "        Y = bag['Y']\n",
    "        y_inst = bag['y_inst']\n",
    "        \n",
    "        # Bolsas positivas deben tener al menos una instancia positiva\n",
    "        if Y == 1:\n",
    "            assert (y_inst == 1).any(), f\"Bolsa positiva sin instancias positivas: {bag}\"\n",
    "        \n",
    "        # Bolsas negativas no deben tener instancias positivas\n",
    "        if Y == 0:\n",
    "            assert (y_inst[y_inst != -1] == 0).all(), f\"Bolsa negativa con instancias positivas: {bag}\"\n",
    "    \n",
    "    print(\"✅ Suposición MIL validada correctamente.\")\n",
    "\n",
    "check_mil_assumption(sc_dataset)"
   ]
  }
 ],
 "metadata": {
  "kernelspec": {
   "display_name": "tfg",
   "language": "python",
   "name": "python3"
  },
  "language_info": {
   "codemirror_mode": {
    "name": "ipython",
    "version": 3
   },
   "file_extension": ".py",
   "mimetype": "text/x-python",
   "name": "python",
   "nbconvert_exporter": "python",
   "pygments_lexer": "ipython3",
   "version": "3.11.11"
  }
 },
 "nbformat": 4,
 "nbformat_minor": 2
}
